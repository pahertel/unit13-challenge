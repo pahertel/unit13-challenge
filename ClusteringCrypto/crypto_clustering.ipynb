{
 "cells": [
  {
   "cell_type": "markdown",
   "metadata": {},
   "source": [
    "# Clustering Crypto"
   ]
  },
  {
   "cell_type": "code",
   "execution_count": 114,
   "metadata": {},
   "outputs": [],
   "source": [
    "# Initial imports\n",
    "import requests\n",
    "import pandas as pd\n",
    "import matplotlib.pyplot as plt\n",
    "import hvplot.pandas\n",
    "import plotly.express as px\n",
    "from sklearn.preprocessing import StandardScaler, MinMaxScaler\n",
    "from sklearn.decomposition import PCA\n",
    "from sklearn.cluster import KMeans"
   ]
  },
  {
   "cell_type": "markdown",
   "metadata": {},
   "source": [
    "### Fetching Cryptocurrency Data"
   ]
  },
  {
   "cell_type": "code",
   "execution_count": 115,
   "metadata": {},
   "outputs": [],
   "source": [
    "# Use the following endpoint to fetch json data\n",
    "#url = \"https://min-api.cryptocompare.com/data/all/coinlist\""
   ]
  },
  {
   "cell_type": "code",
   "execution_count": 116,
   "metadata": {},
   "outputs": [],
   "source": [
    "# Create a DataFrame \n",
    "# HINT: You will need to use the 'Data' key from the json response, then transpose the DataFrame.\n",
    "#response = requests.get(url)\n",
    "#response_json = response.json()\n",
    "#df = response_json['Data']\n",
    "#df2 = pd.DataFrame.from_dict(df).T\n",
    "#df2"
   ]
  },
  {
   "cell_type": "code",
   "execution_count": 117,
   "metadata": {},
   "outputs": [
    {
     "data": {
      "text/html": [
       "<div>\n",
       "<style scoped>\n",
       "    .dataframe tbody tr th:only-of-type {\n",
       "        vertical-align: middle;\n",
       "    }\n",
       "\n",
       "    .dataframe tbody tr th {\n",
       "        vertical-align: top;\n",
       "    }\n",
       "\n",
       "    .dataframe thead th {\n",
       "        text-align: right;\n",
       "    }\n",
       "</style>\n",
       "<table border=\"1\" class=\"dataframe\">\n",
       "  <thead>\n",
       "    <tr style=\"text-align: right;\">\n",
       "      <th></th>\n",
       "      <th>CoinName</th>\n",
       "      <th>Algorithm</th>\n",
       "      <th>IsTrading</th>\n",
       "      <th>ProofType</th>\n",
       "      <th>TotalCoinsMined</th>\n",
       "      <th>TotalCoinSupply</th>\n",
       "    </tr>\n",
       "  </thead>\n",
       "  <tbody>\n",
       "    <tr>\n",
       "      <th>42</th>\n",
       "      <td>42 Coin</td>\n",
       "      <td>Scrypt</td>\n",
       "      <td>True</td>\n",
       "      <td>PoW/PoS</td>\n",
       "      <td>4.199995e+01</td>\n",
       "      <td>42</td>\n",
       "    </tr>\n",
       "    <tr>\n",
       "      <th>365</th>\n",
       "      <td>365Coin</td>\n",
       "      <td>X11</td>\n",
       "      <td>True</td>\n",
       "      <td>PoW/PoS</td>\n",
       "      <td>NaN</td>\n",
       "      <td>2300000000</td>\n",
       "    </tr>\n",
       "    <tr>\n",
       "      <th>404</th>\n",
       "      <td>404Coin</td>\n",
       "      <td>Scrypt</td>\n",
       "      <td>True</td>\n",
       "      <td>PoW/PoS</td>\n",
       "      <td>1.055185e+09</td>\n",
       "      <td>532000000</td>\n",
       "    </tr>\n",
       "    <tr>\n",
       "      <th>611</th>\n",
       "      <td>SixEleven</td>\n",
       "      <td>SHA-256</td>\n",
       "      <td>True</td>\n",
       "      <td>PoW</td>\n",
       "      <td>NaN</td>\n",
       "      <td>611000</td>\n",
       "    </tr>\n",
       "    <tr>\n",
       "      <th>808</th>\n",
       "      <td>808</td>\n",
       "      <td>SHA-256</td>\n",
       "      <td>True</td>\n",
       "      <td>PoW/PoS</td>\n",
       "      <td>0.000000e+00</td>\n",
       "      <td>0</td>\n",
       "    </tr>\n",
       "  </tbody>\n",
       "</table>\n",
       "</div>"
      ],
      "text/plain": [
       "      CoinName Algorithm  IsTrading ProofType  TotalCoinsMined TotalCoinSupply\n",
       "42     42 Coin    Scrypt       True   PoW/PoS     4.199995e+01              42\n",
       "365    365Coin       X11       True   PoW/PoS              NaN      2300000000\n",
       "404    404Coin    Scrypt       True   PoW/PoS     1.055185e+09       532000000\n",
       "611  SixEleven   SHA-256       True       PoW              NaN          611000\n",
       "808        808   SHA-256       True   PoW/PoS     0.000000e+00               0"
      ]
     },
     "execution_count": 117,
     "metadata": {},
     "output_type": "execute_result"
    }
   ],
   "source": [
    "# Alternatively, use the provided csv file:\n",
    "from pathlib import Path\n",
    "file_path = Path(\"Resources/crypto_data.csv\")\n",
    "\n",
    "# Create a DataFrame\n",
    "crypto_df = pd.read_csv(file_path, index_col = 0)\n",
    "crypto_df.head()"
   ]
  },
  {
   "cell_type": "markdown",
   "metadata": {},
   "source": [
    "### Data Preprocessing"
   ]
  },
  {
   "cell_type": "code",
   "execution_count": 118,
   "metadata": {},
   "outputs": [],
   "source": [
    "# Keep only necessary columns:\n",
    "# 'CoinName','Algorithm','IsTrading','ProofType','TotalCoinsMined','TotalCoinSupply'\n"
   ]
  },
  {
   "cell_type": "code",
   "execution_count": 119,
   "metadata": {},
   "outputs": [],
   "source": [
    "# Keep only cryptocurrencies that are trading\n",
    "crypto_df = crypto_df[crypto_df['IsTrading'] == True]"
   ]
  },
  {
   "cell_type": "code",
   "execution_count": 120,
   "metadata": {},
   "outputs": [],
   "source": [
    "# Keep only cryptocurrencies with a working algorithm\n",
    "crypto_df = crypto_df[crypto_df['Algorithm'] != 'N/A']"
   ]
  },
  {
   "cell_type": "code",
   "execution_count": 121,
   "metadata": {},
   "outputs": [],
   "source": [
    "# Remove the \"IsTrading\" column\n",
    "crypto_df.drop(columns=[\"IsTrading\"], inplace=True)"
   ]
  },
  {
   "cell_type": "code",
   "execution_count": 122,
   "metadata": {},
   "outputs": [],
   "source": [
    "# Remove rows with at least 1 null value\n",
    "crypto_df = crypto_df.dropna()"
   ]
  },
  {
   "cell_type": "code",
   "execution_count": 123,
   "metadata": {},
   "outputs": [],
   "source": [
    "# Remove rows with cryptocurrencies having no coins mined\n",
    "crypto_df = crypto_df[crypto_df['TotalCoinsMined'] != 0]"
   ]
  },
  {
   "cell_type": "code",
   "execution_count": 124,
   "metadata": {},
   "outputs": [],
   "source": [
    "# Drop rows where there are 'N/A' text values\n",
    "crypto_df = crypto_df[(crypto_df != 'N/A')]"
   ]
  },
  {
   "cell_type": "code",
   "execution_count": 125,
   "metadata": {},
   "outputs": [],
   "source": [
    "# Store the 'CoinName'column in its own DataFrame prior to dropping it from crypto_df\n",
    "coinname_df = crypto_df[['CoinName']]"
   ]
  },
  {
   "cell_type": "code",
   "execution_count": 126,
   "metadata": {},
   "outputs": [],
   "source": [
    "# Drop the 'CoinName' column since it's not going to be used on the clustering algorithm\n",
    "crypto_df.drop(columns=[\"CoinName\"], inplace=True)"
   ]
  },
  {
   "cell_type": "code",
   "execution_count": 127,
   "metadata": {},
   "outputs": [],
   "source": [
    "# Create dummy variables for text features\n",
    "X = pd.get_dummies(crypto_df)"
   ]
  },
  {
   "cell_type": "code",
   "execution_count": 128,
   "metadata": {},
   "outputs": [],
   "source": [
    "# Standardize data\n",
    "crypto_scaled = StandardScaler().fit_transform(X)"
   ]
  },
  {
   "cell_type": "markdown",
   "metadata": {},
   "source": [
    "### Reducing Dimensions Using PCA"
   ]
  },
  {
   "cell_type": "code",
   "execution_count": 129,
   "metadata": {},
   "outputs": [],
   "source": [
    "# Use PCA to reduce dimensions to 3 principal components\n",
    "pca = PCA(n_components = 3)\n",
    "pca_df = pca.fit_transform(crypto_scaled)"
   ]
  },
  {
   "cell_type": "code",
   "execution_count": 130,
   "metadata": {},
   "outputs": [
    {
     "data": {
      "text/html": [
       "<div>\n",
       "<style scoped>\n",
       "    .dataframe tbody tr th:only-of-type {\n",
       "        vertical-align: middle;\n",
       "    }\n",
       "\n",
       "    .dataframe tbody tr th {\n",
       "        vertical-align: top;\n",
       "    }\n",
       "\n",
       "    .dataframe thead th {\n",
       "        text-align: right;\n",
       "    }\n",
       "</style>\n",
       "<table border=\"1\" class=\"dataframe\">\n",
       "  <thead>\n",
       "    <tr style=\"text-align: right;\">\n",
       "      <th></th>\n",
       "      <th>PC 1</th>\n",
       "      <th>PC 2</th>\n",
       "      <th>PC 3</th>\n",
       "    </tr>\n",
       "  </thead>\n",
       "  <tbody>\n",
       "    <tr>\n",
       "      <th>42</th>\n",
       "      <td>-0.267555</td>\n",
       "      <td>-0.079241</td>\n",
       "      <td>-0.050543</td>\n",
       "    </tr>\n",
       "    <tr>\n",
       "      <th>404</th>\n",
       "      <td>-0.251414</td>\n",
       "      <td>-0.088934</td>\n",
       "      <td>-0.054192</td>\n",
       "    </tr>\n",
       "    <tr>\n",
       "      <th>1337</th>\n",
       "      <td>0.166845</td>\n",
       "      <td>-0.120515</td>\n",
       "      <td>0.114028</td>\n",
       "    </tr>\n",
       "    <tr>\n",
       "      <th>BTC</th>\n",
       "      <td>-0.223475</td>\n",
       "      <td>-0.062321</td>\n",
       "      <td>-0.118835</td>\n",
       "    </tr>\n",
       "    <tr>\n",
       "      <th>ETH</th>\n",
       "      <td>-0.158254</td>\n",
       "      <td>-0.044619</td>\n",
       "      <td>-0.130649</td>\n",
       "    </tr>\n",
       "  </tbody>\n",
       "</table>\n",
       "</div>"
      ],
      "text/plain": [
       "          PC 1      PC 2      PC 3\n",
       "42   -0.267555 -0.079241 -0.050543\n",
       "404  -0.251414 -0.088934 -0.054192\n",
       "1337  0.166845 -0.120515  0.114028\n",
       "BTC  -0.223475 -0.062321 -0.118835\n",
       "ETH  -0.158254 -0.044619 -0.130649"
      ]
     },
     "execution_count": 130,
     "metadata": {},
     "output_type": "execute_result"
    }
   ],
   "source": [
    "# Create a DataFrame with the principal components data\n",
    "df_crypto_pca = pd.DataFrame(\n",
    "    data=pca_df, columns=[\"PC 1\", \"PC 2\", \"PC 3\"], index = crypto_df.index\n",
    ")\n",
    "\n",
    "df_crypto_pca.head()"
   ]
  },
  {
   "cell_type": "markdown",
   "metadata": {},
   "source": [
    "### Clustering Crytocurrencies Using K-Means\n",
    "\n",
    "#### Find the Best Value for `k` Using the Elbow Curve"
   ]
  },
  {
   "cell_type": "code",
   "execution_count": 131,
   "metadata": {},
   "outputs": [
    {
     "data": {},
     "metadata": {},
     "output_type": "display_data"
    },
    {
     "data": {
      "application/vnd.holoviews_exec.v0+json": "",
      "text/html": [
       "<div id='2045'>\n",
       "\n",
       "\n",
       "\n",
       "\n",
       "\n",
       "  <div class=\"bk-root\" id=\"2332dbef-85da-4172-b8a8-d85383c888c1\" data-root-id=\"2045\"></div>\n",
       "</div>\n",
       "<script type=\"application/javascript\">(function(root) {\n",
       "  function embed_document(root) {\n",
       "  var docs_json = {\"d3e58544-9f89-47cd-9d07-0906b2a15024\":{\"roots\":{\"references\":[{\"attributes\":{},\"id\":\"2068\",\"type\":\"PanTool\"},{\"attributes\":{},\"id\":\"2067\",\"type\":\"SaveTool\"},{\"attributes\":{},\"id\":\"2094\",\"type\":\"BasicTickFormatter\"},{\"attributes\":{\"source\":{\"id\":\"2080\"}},\"id\":\"2087\",\"type\":\"CDSView\"},{\"attributes\":{\"align\":null,\"below\":[{\"id\":\"2059\"}],\"center\":[{\"id\":\"2062\"},{\"id\":\"2066\"}],\"left\":[{\"id\":\"2063\"}],\"margin\":null,\"min_border_bottom\":10,\"min_border_left\":10,\"min_border_right\":10,\"min_border_top\":10,\"plot_height\":300,\"plot_width\":700,\"renderers\":[{\"id\":\"2086\"}],\"sizing_mode\":\"fixed\",\"title\":{\"id\":\"2051\"},\"toolbar\":{\"id\":\"2073\"},\"x_range\":{\"id\":\"2047\"},\"x_scale\":{\"id\":\"2055\"},\"y_range\":{\"id\":\"2048\"},\"y_scale\":{\"id\":\"2057\"}},\"id\":\"2050\",\"subtype\":\"Figure\",\"type\":\"Plot\"},{\"attributes\":{\"axis\":{\"id\":\"2059\"},\"grid_line_color\":null,\"ticker\":null},\"id\":\"2062\",\"type\":\"Grid\"},{\"attributes\":{\"overlay\":{\"id\":\"2072\"}},\"id\":\"2070\",\"type\":\"BoxZoomTool\"},{\"attributes\":{\"margin\":[5,5,5,5],\"name\":\"HSpacer03818\",\"sizing_mode\":\"stretch_width\"},\"id\":\"2046\",\"type\":\"Spacer\"},{\"attributes\":{},\"id\":\"2069\",\"type\":\"WheelZoomTool\"},{\"attributes\":{},\"id\":\"2064\",\"type\":\"BasicTicker\"},{\"attributes\":{},\"id\":\"2071\",\"type\":\"ResetTool\"},{\"attributes\":{\"text\":\"Elbow Curve\",\"text_color\":{\"value\":\"black\"},\"text_font_size\":{\"value\":\"12pt\"}},\"id\":\"2051\",\"type\":\"Title\"},{\"attributes\":{\"end\":5369.728095504299,\"reset_end\":5369.728095504299,\"reset_start\":-461.16201970276654,\"start\":-461.16201970276654,\"tags\":[[[\"inertia\",\"inertia\",null]]]},\"id\":\"2048\",\"type\":\"Range1d\"},{\"attributes\":{\"axis_label\":\"k\",\"bounds\":\"auto\",\"formatter\":{\"id\":\"2090\"},\"major_label_orientation\":\"horizontal\",\"ticker\":{\"id\":\"2088\"}},\"id\":\"2059\",\"type\":\"LinearAxis\"},{\"attributes\":{\"axis\":{\"id\":\"2063\"},\"dimension\":1,\"grid_line_color\":null,\"ticker\":null},\"id\":\"2066\",\"type\":\"Grid\"},{\"attributes\":{\"line_alpha\":0.2,\"line_color\":\"#1f77b3\",\"line_width\":2,\"x\":{\"field\":\"k\"},\"y\":{\"field\":\"inertia\"}},\"id\":\"2085\",\"type\":\"Line\"},{\"attributes\":{},\"id\":\"2100\",\"type\":\"UnionRenderers\"},{\"attributes\":{},\"id\":\"2057\",\"type\":\"LinearScale\"},{\"attributes\":{\"children\":[{\"id\":\"2046\"},{\"id\":\"2050\"},{\"id\":\"2109\"}],\"margin\":[0,0,0,0],\"name\":\"Row03814\",\"tags\":[\"embedded\"]},\"id\":\"2045\",\"type\":\"Row\"},{\"attributes\":{\"axis_label\":\"inertia\",\"bounds\":\"auto\",\"formatter\":{\"id\":\"2094\"},\"major_label_orientation\":\"horizontal\",\"ticker\":{\"id\":\"2064\"}},\"id\":\"2063\",\"type\":\"LinearAxis\"},{\"attributes\":{\"line_color\":\"#1f77b3\",\"line_width\":2,\"x\":{\"field\":\"k\"},\"y\":{\"field\":\"inertia\"}},\"id\":\"2083\",\"type\":\"Line\"},{\"attributes\":{\"data_source\":{\"id\":\"2080\"},\"glyph\":{\"id\":\"2083\"},\"hover_glyph\":null,\"muted_glyph\":{\"id\":\"2085\"},\"nonselection_glyph\":{\"id\":\"2084\"},\"selection_glyph\":null,\"view\":{\"id\":\"2087\"}},\"id\":\"2086\",\"type\":\"GlyphRenderer\"},{\"attributes\":{\"callback\":null,\"renderers\":[{\"id\":\"2086\"}],\"tags\":[\"hv_created\"],\"tooltips\":[[\"k\",\"@{k}\"],[\"inertia\",\"@{inertia}\"]]},\"id\":\"2049\",\"type\":\"HoverTool\"},{\"attributes\":{\"line_alpha\":0.1,\"line_color\":\"#1f77b3\",\"line_width\":2,\"x\":{\"field\":\"k\"},\"y\":{\"field\":\"inertia\"}},\"id\":\"2084\",\"type\":\"Line\"},{\"attributes\":{},\"id\":\"2055\",\"type\":\"LinearScale\"},{\"attributes\":{},\"id\":\"2090\",\"type\":\"BasicTickFormatter\"},{\"attributes\":{\"bottom_units\":\"screen\",\"fill_alpha\":0.5,\"fill_color\":\"lightgrey\",\"left_units\":\"screen\",\"level\":\"overlay\",\"line_alpha\":1.0,\"line_color\":\"black\",\"line_dash\":[4,4],\"line_width\":2,\"right_units\":\"screen\",\"top_units\":\"screen\"},\"id\":\"2072\",\"type\":\"BoxAnnotation\"},{\"attributes\":{\"margin\":[5,5,5,5],\"name\":\"HSpacer03819\",\"sizing_mode\":\"stretch_width\"},\"id\":\"2109\",\"type\":\"Spacer\"},{\"attributes\":{\"ticks\":[1,2,3,4,5,6,7,8,9,10]},\"id\":\"2088\",\"type\":\"FixedTicker\"},{\"attributes\":{\"active_drag\":\"auto\",\"active_inspect\":\"auto\",\"active_multi\":null,\"active_scroll\":\"auto\",\"active_tap\":\"auto\",\"tools\":[{\"id\":\"2049\"},{\"id\":\"2067\"},{\"id\":\"2068\"},{\"id\":\"2069\"},{\"id\":\"2070\"},{\"id\":\"2071\"}]},\"id\":\"2073\",\"type\":\"Toolbar\"},{\"attributes\":{\"data\":{\"inertia\":{\"__ndarray__\":\"/vPqEdITs0A9U1AEodWqQE99AJJwSqBAPgkeAQswkECkt8GFeFqBQEQsFRUTdWpAEvZvExDzS0AVFWoFTVdCQB/HN0ByZT1AIKUKbdi+OEA=\",\"dtype\":\"float64\",\"order\":\"little\",\"shape\":[10]},\"k\":[1,2,3,4,5,6,7,8,9,10]},\"selected\":{\"id\":\"2081\"},\"selection_policy\":{\"id\":\"2100\"}},\"id\":\"2080\",\"type\":\"ColumnDataSource\"},{\"attributes\":{\"end\":10.0,\"reset_end\":10.0,\"reset_start\":1.0,\"start\":1.0,\"tags\":[[[\"k\",\"k\",null]]]},\"id\":\"2047\",\"type\":\"Range1d\"},{\"attributes\":{},\"id\":\"2081\",\"type\":\"Selection\"}],\"root_ids\":[\"2045\"]},\"title\":\"Bokeh Application\",\"version\":\"2.1.1\"}};\n",
       "  var render_items = [{\"docid\":\"d3e58544-9f89-47cd-9d07-0906b2a15024\",\"root_ids\":[\"2045\"],\"roots\":{\"2045\":\"2332dbef-85da-4172-b8a8-d85383c888c1\"}}];\n",
       "  root.Bokeh.embed.embed_items_notebook(docs_json, render_items);\n",
       "  }\n",
       "if (root.Bokeh !== undefined) {\n",
       "    embed_document(root);\n",
       "  } else {\n",
       "    var attempts = 0;\n",
       "    var timer = setInterval(function(root) {\n",
       "      if (root.Bokeh !== undefined) {\n",
       "        clearInterval(timer);\n",
       "        embed_document(root);\n",
       "      } else if (document.readyState == \"complete\") {\n",
       "        attempts++;\n",
       "        if (attempts > 100) {\n",
       "          clearInterval(timer);\n",
       "          console.log(\"Bokeh: ERROR: Unable to run BokehJS code because BokehJS library is missing\");\n",
       "        }\n",
       "      }\n",
       "    }, 10, root)\n",
       "  }\n",
       "})(window);</script>"
      ],
      "text/plain": [
       ":Curve   [k]   (inertia)"
      ]
     },
     "execution_count": 131,
     "metadata": {
      "application/vnd.holoviews_exec.v0+json": {
       "id": "2045"
      }
     },
     "output_type": "execute_result"
    }
   ],
   "source": [
    "inertia = []\n",
    "k = list(range(1, 11))\n",
    "\n",
    "# Calculate the inertia for the range of k values\n",
    "for i in k:\n",
    "    km = KMeans(n_clusters=i, random_state=0)\n",
    "    km.fit(crypto_pca)\n",
    "    inertia.append(km.inertia_)\n",
    "\n",
    "# Create the Elbow Curve using hvPlot\n",
    "elbow_data = {\"k\": k, \"inertia\": inertia}\n",
    "df_elbow = pd.DataFrame(elbow_data)\n",
    "df_elbow.hvplot.line(x=\"k\", y=\"inertia\", xticks=k, title=\"Elbow Curve\")"
   ]
  },
  {
   "cell_type": "markdown",
   "metadata": {},
   "source": [
    "Running K-Means with `k=<your best value for k here>`"
   ]
  },
  {
   "cell_type": "code",
   "execution_count": 132,
   "metadata": {},
   "outputs": [
    {
     "data": {
      "text/html": [
       "<div>\n",
       "<style scoped>\n",
       "    .dataframe tbody tr th:only-of-type {\n",
       "        vertical-align: middle;\n",
       "    }\n",
       "\n",
       "    .dataframe tbody tr th {\n",
       "        vertical-align: top;\n",
       "    }\n",
       "\n",
       "    .dataframe thead th {\n",
       "        text-align: right;\n",
       "    }\n",
       "</style>\n",
       "<table border=\"1\" class=\"dataframe\">\n",
       "  <thead>\n",
       "    <tr style=\"text-align: right;\">\n",
       "      <th></th>\n",
       "      <th>Algorithm</th>\n",
       "      <th>ProofType</th>\n",
       "      <th>TotalCoinsMined</th>\n",
       "      <th>TotalCoinSupply</th>\n",
       "      <th>PC 1</th>\n",
       "      <th>PC 2</th>\n",
       "      <th>PC 3</th>\n",
       "      <th>class</th>\n",
       "      <th>CoinName</th>\n",
       "    </tr>\n",
       "  </thead>\n",
       "  <tbody>\n",
       "    <tr>\n",
       "      <th>42</th>\n",
       "      <td>Scrypt</td>\n",
       "      <td>PoW/PoS</td>\n",
       "      <td>4.199995e+01</td>\n",
       "      <td>42</td>\n",
       "      <td>-0.267555</td>\n",
       "      <td>-0.079241</td>\n",
       "      <td>-0.050543</td>\n",
       "      <td>0</td>\n",
       "      <td>42 Coin</td>\n",
       "    </tr>\n",
       "    <tr>\n",
       "      <th>404</th>\n",
       "      <td>Scrypt</td>\n",
       "      <td>PoW/PoS</td>\n",
       "      <td>1.055185e+09</td>\n",
       "      <td>532000000</td>\n",
       "      <td>-0.251414</td>\n",
       "      <td>-0.088934</td>\n",
       "      <td>-0.054192</td>\n",
       "      <td>0</td>\n",
       "      <td>404Coin</td>\n",
       "    </tr>\n",
       "    <tr>\n",
       "      <th>1337</th>\n",
       "      <td>X13</td>\n",
       "      <td>PoW/PoS</td>\n",
       "      <td>2.927942e+10</td>\n",
       "      <td>3.14159E+11</td>\n",
       "      <td>0.166845</td>\n",
       "      <td>-0.120515</td>\n",
       "      <td>0.114028</td>\n",
       "      <td>0</td>\n",
       "      <td>EliteCoin</td>\n",
       "    </tr>\n",
       "    <tr>\n",
       "      <th>BTC</th>\n",
       "      <td>SHA-256</td>\n",
       "      <td>PoW</td>\n",
       "      <td>1.792718e+07</td>\n",
       "      <td>21000000</td>\n",
       "      <td>-0.223475</td>\n",
       "      <td>-0.062321</td>\n",
       "      <td>-0.118835</td>\n",
       "      <td>0</td>\n",
       "      <td>Bitcoin</td>\n",
       "    </tr>\n",
       "    <tr>\n",
       "      <th>ETH</th>\n",
       "      <td>Ethash</td>\n",
       "      <td>PoW</td>\n",
       "      <td>1.076842e+08</td>\n",
       "      <td>0</td>\n",
       "      <td>-0.158254</td>\n",
       "      <td>-0.044619</td>\n",
       "      <td>-0.130649</td>\n",
       "      <td>0</td>\n",
       "      <td>Ethereum</td>\n",
       "    </tr>\n",
       "  </tbody>\n",
       "</table>\n",
       "</div>"
      ],
      "text/plain": [
       "     Algorithm ProofType  TotalCoinsMined TotalCoinSupply      PC 1      PC 2  \\\n",
       "42      Scrypt   PoW/PoS     4.199995e+01              42 -0.267555 -0.079241   \n",
       "404     Scrypt   PoW/PoS     1.055185e+09       532000000 -0.251414 -0.088934   \n",
       "1337       X13   PoW/PoS     2.927942e+10     3.14159E+11  0.166845 -0.120515   \n",
       "BTC    SHA-256       PoW     1.792718e+07        21000000 -0.223475 -0.062321   \n",
       "ETH     Ethash       PoW     1.076842e+08               0 -0.158254 -0.044619   \n",
       "\n",
       "          PC 3  class   CoinName  \n",
       "42   -0.050543      0    42 Coin  \n",
       "404  -0.054192      0    404Coin  \n",
       "1337  0.114028      0  EliteCoin  \n",
       "BTC  -0.118835      0    Bitcoin  \n",
       "ETH  -0.130649      0   Ethereum  "
      ]
     },
     "execution_count": 132,
     "metadata": {},
     "output_type": "execute_result"
    }
   ],
   "source": [
    "# Initialize the K-Means model\n",
    "model = KMeans(n_clusters=4, random_state=0)\n",
    "\n",
    "# Fit the model\n",
    "model.fit(crypto_pca)\n",
    "\n",
    "# Predict clusters\n",
    "predictions = model.predict(crypto_pca)\n",
    "\n",
    "# Create a new DataFrame including predicted clusters and cryptocurrencies features\n",
    "df_crypto_pca[\"class\"] = model.labels_\n",
    "\n",
    "clustered_df = crypto_df.join(df_crypto_pca)\n",
    "\n",
    "clustered_df[\"CoinName\"] = coinname_df\n",
    "\n",
    "clustered_df.head()"
   ]
  },
  {
   "cell_type": "markdown",
   "metadata": {},
   "source": [
    "### Visualizing Results\n",
    "\n",
    "#### 3D-Scatter with Clusters"
   ]
  },
  {
   "cell_type": "code",
   "execution_count": 133,
   "metadata": {},
   "outputs": [
    {
     "data": {
      "application/vnd.plotly.v1+json": {
       "config": {
        "plotlyServerURL": "https://plot.ly"
       },
       "data": [
        {
         "hovertemplate": "class=%{marker.color}<br>PC 1=%{x}<br>PC 2=%{y}<br>PC 3=%{z}<extra></extra>",
         "legendgroup": "0",
         "marker": {
          "color": [
           0,
           0,
           0,
           0,
           0,
           0,
           0,
           0,
           0,
           0,
           0,
           0,
           0,
           0,
           0,
           0,
           0,
           0,
           0,
           0,
           0,
           0,
           0,
           0,
           0,
           0,
           0,
           0,
           0,
           0,
           0,
           0,
           0,
           0,
           0,
           0,
           0,
           0,
           0,
           0,
           0,
           0,
           0,
           0,
           0,
           0,
           0,
           0,
           0,
           0,
           0,
           0,
           0,
           0,
           0,
           0,
           0,
           0,
           0,
           0,
           0,
           0,
           0,
           0,
           0,
           0,
           0,
           0,
           0,
           0,
           0,
           0,
           0,
           0,
           0,
           0,
           0,
           0,
           0,
           0,
           0,
           0,
           0,
           0,
           0,
           0,
           0,
           0,
           0,
           0,
           0,
           0,
           0,
           0,
           0,
           0,
           0,
           0,
           0,
           0,
           0,
           0,
           0,
           0,
           0,
           0,
           0,
           0,
           0,
           0,
           0,
           0,
           0,
           0,
           0,
           0,
           0,
           0,
           0,
           0,
           0,
           0,
           0,
           0,
           0,
           0,
           0,
           0,
           0,
           0,
           0,
           0,
           0,
           0,
           0,
           0,
           0,
           0,
           0,
           0,
           0,
           0,
           0,
           0,
           0,
           0,
           0,
           0,
           0,
           0,
           0,
           0,
           0,
           0,
           0,
           0,
           0,
           0,
           0,
           0,
           0,
           0,
           0,
           0,
           0,
           0,
           0,
           0,
           0,
           0,
           0,
           0,
           0,
           0,
           0,
           0,
           0,
           0,
           0,
           0,
           0,
           0,
           0,
           0,
           0,
           0,
           0,
           0,
           0,
           0,
           0,
           0,
           0,
           0,
           0,
           0,
           0,
           0,
           0,
           0,
           0,
           0,
           0,
           0,
           0,
           0,
           0,
           0,
           0,
           0,
           0,
           0,
           0,
           0,
           0,
           0,
           0,
           0,
           0,
           0,
           0,
           0,
           0,
           0,
           0,
           0,
           0,
           0,
           0,
           0,
           0,
           0,
           0,
           0,
           0,
           0,
           0,
           0,
           0,
           0,
           0,
           0,
           0,
           0,
           0,
           0,
           0,
           0,
           0,
           0,
           0,
           0,
           0,
           0,
           0,
           0,
           0,
           0,
           0,
           0,
           0,
           0,
           0,
           0,
           0,
           0,
           0,
           0,
           0,
           0,
           0,
           0,
           0,
           0,
           0,
           0,
           0,
           0,
           0,
           0,
           0,
           0,
           0,
           0,
           0,
           0,
           0,
           0,
           0,
           0,
           0,
           0,
           0,
           0,
           0,
           0,
           0,
           0,
           0,
           0,
           0,
           0,
           0,
           0,
           0,
           0,
           0,
           0,
           0,
           0,
           0,
           0,
           0,
           0,
           0,
           0,
           0,
           0,
           0,
           0,
           0,
           0,
           0,
           0,
           0,
           0,
           0,
           0,
           0,
           0,
           0,
           0,
           0,
           0,
           0,
           0,
           0,
           0,
           0,
           0,
           0,
           0,
           0,
           0,
           0,
           0,
           0,
           0,
           0,
           0,
           0,
           0,
           0,
           0,
           0,
           0,
           0,
           0,
           0,
           0,
           0,
           0,
           0,
           0,
           0,
           0,
           0,
           0,
           0,
           0,
           0,
           0,
           0,
           0,
           0,
           0,
           0,
           0,
           0,
           0,
           0,
           0,
           0,
           0,
           0,
           0,
           0,
           0,
           0,
           0,
           0,
           0,
           0,
           0,
           0,
           0,
           0,
           0,
           0,
           0,
           0,
           0,
           0,
           0,
           0,
           0,
           0,
           0,
           0,
           0,
           0,
           0,
           0,
           0,
           0,
           0,
           0,
           0,
           0,
           0,
           0,
           0,
           0,
           0,
           0,
           0,
           0,
           0,
           0,
           0,
           0,
           0,
           0,
           0,
           0,
           0,
           0,
           0,
           0,
           0,
           0,
           0,
           0,
           0,
           0,
           0,
           0,
           0,
           0,
           0,
           0,
           0,
           0,
           0,
           0,
           0,
           0,
           0,
           0,
           0,
           0,
           0,
           0,
           0,
           0,
           0,
           0,
           0,
           0,
           0,
           0,
           0,
           0,
           0,
           0,
           0,
           0,
           0,
           0,
           0,
           0,
           0,
           0,
           0,
           0,
           0,
           0,
           0,
           0,
           0,
           0,
           0,
           0,
           0,
           0,
           0,
           0,
           0,
           0,
           0,
           0,
           0,
           0,
           0,
           0,
           0,
           0,
           0,
           0,
           0,
           0,
           0,
           0,
           0,
           0,
           0,
           0,
           0,
           0,
           0,
           0,
           0,
           0,
           0,
           0,
           0,
           0,
           0,
           0
          ],
          "coloraxis": "coloraxis",
          "symbol": "circle"
         },
         "mode": "markers",
         "name": "0",
         "scene": "scene",
         "showlegend": true,
         "type": "scatter3d",
         "x": [
          -0.26755457583510056,
          -0.2514139053300429,
          0.16684483903676225,
          -0.22347496951976506,
          -0.15825413485137563,
          -0.2868888260901713,
          -0.20881714020774345,
          -0.15434833390974384,
          -0.30587444299315764,
          -0.2853407086215438,
          -0.1156213897290266,
          -0.08994293196832179,
          -0.1712789486570537,
          -0.12963584412263357,
          -0.2828462020586637,
          -0.24203875074524772,
          -0.2608027833200233,
          -0.2806478262997742,
          -0.2653848993812997,
          -0.10360872133652192,
          0.0006916118821452273,
          -0.2942672315611156,
          -0.1898908766080301,
          -0.2899149523192621,
          -0.19801366612482604,
          -0.10924259914716487,
          -0.32855979961286713,
          -0.26759860305548666,
          -0.2940996753649646,
          -0.2669687958294966,
          -0.2828302398791667,
          -0.2591462370099262,
          -0.29810446675329494,
          -0.30856119122047354,
          0.5905564991014625,
          -0.22617194493880383,
          -0.06099254167026053,
          0.037273016021988015,
          -0.09561770434842554,
          -0.2826797000954058,
          -0.2918232852961643,
          -0.29477560128549435,
          -0.06627034319724909,
          -0.04103916212452795,
          -0.2957679780009495,
          -0.2846607445027851,
          -0.2811815676408884,
          -0.29124556285006353,
          -0.2965923463543013,
          -0.2849060634482357,
          -0.041019925632374006,
          1.1626722224140082,
          -0.20872235962492652,
          -0.22344019853116187,
          -0.29278193008320663,
          -0.28232708236896675,
          -0.29537940936155815,
          0.048261271384314255,
          -0.2751264558125354,
          -0.3194724685348096,
          0.15305514718012392,
          -0.2978149950293206,
          -0.13544052618767122,
          -0.22062297771598885,
          -0.09864291576337994,
          -0.2570072994836857,
          -0.2235100550024669,
          -0.29111463057536774,
          -0.09920294563456754,
          -0.29354195825888224,
          -0.2510796556030728,
          -0.26382426170092643,
          0.2117556244660318,
          -0.28289748867228637,
          -0.29106650771659087,
          -0.29583419500129715,
          -0.05891920866679916,
          -0.22317315053766013,
          -0.17988200667624288,
          -0.1310396432102567,
          -0.18917378666664986,
          -0.177083197611123,
          -0.25261676008002953,
          -0.21605624153523242,
          -0.20281483625384766,
          -0.189321766732447,
          -0.11260040830735249,
          -0.24490128108825288,
          -0.1739100849001742,
          -0.30614236278725065,
          -0.04676048723408186,
          -0.28997378673488683,
          -0.2931320477310307,
          -0.21985862669408737,
          -0.06695590905028696,
          -0.22203338328061897,
          -0.0990057079816953,
          -0.11886385587665944,
          2.8373143856225975,
          -0.06621584770065862,
          0.05537751946130144,
          0.05215932710453278,
          -0.29266112647839465,
          -0.1579788596700054,
          -0.09057230709733133,
          -0.291995574820905,
          -0.08079207546440938,
          -0.29588192597522905,
          -0.3000659806956945,
          -0.2953255918054667,
          -0.0406888494515391,
          -0.28909947476521763,
          -0.11057964668856517,
          -0.2629424932370925,
          -0.13540857823854302,
          -0.0710524175075274,
          -0.20775890977795747,
          -0.12047641823293634,
          -0.07226207324861807,
          -0.29686505628386795,
          -0.2587798834690794,
          -0.21939837176729768,
          -0.49246282618094955,
          -0.29400652323202353,
          -0.22353505728838566,
          0.027896938230614083,
          -0.08896493431935869,
          0.6226483074513551,
          -0.2592368146474497,
          -0.4086515472293454,
          -0.1883652942802688,
          0.07309790751006437,
          -0.26112098445798554,
          0.018923285229810922,
          -0.29729893851920575,
          -0.2905013253104613,
          -0.14385808243867795,
          -0.3479768211221655,
          -0.23657602668325473,
          0.3159322319112035,
          -0.06078012712512702,
          -0.26790273071907467,
          -0.25095463452380695,
          -0.2234412087490641,
          -0.1712980727194979,
          -0.27960146544820147,
          -0.4356213825491641,
          -0.17125276926040658,
          -0.045992118261379666,
          -0.2868140884486395,
          -0.16894032188700955,
          0.15477958788914725,
          -0.017844349678722355,
          -0.25181491756638535,
          -0.2235380779443187,
          -0.26547176285429747,
          -0.26229691693213353,
          -0.29376476038980043,
          -0.2720743469443495,
          -0.22206638211848329,
          0.37048186553319884,
          -0.18495949087444816,
          -0.013550936585596257,
          -0.21442457952347835,
          -0.28246734085709513,
          -0.23301787592171827,
          -0.2354673869596867,
          -0.15969351007204144,
          -0.16126758301979535,
          -0.30846847804177285,
          -0.21987723242490076,
          -0.2954030278481408,
          -0.059957506225601594,
          0.001665019547611479,
          -0.2642938339357805,
          -0.17336287563641156,
          -0.2355291428226971,
          -0.2331528635633615,
          -0.1644571285117382,
          -0.2831646888480435,
          -0.22627023734049206,
          -0.2909401041169587,
          -0.16985960944983938,
          -0.20003344297583317,
          -0.19309972219461122,
          -0.23514605320800502,
          -0.2592491338681109,
          -0.31106873257160406,
          -0.11057445609006264,
          -0.2986623838356965,
          -0.07922610220078967,
          -0.19095014998292079,
          -0.4910342636553412,
          -0.2889904444916441,
          0.2628215738086831,
          -0.20734319322729755,
          -0.11022717143793102,
          -0.2185199955478929,
          -0.2345681546419935,
          -0.20119407041943974,
          -0.25660747649505505,
          -0.12682810893275176,
          -0.2053980111287508,
          -0.03290531751403148,
          -0.3503138065361114,
          -0.2853601659574341,
          5.531293538858935,
          -0.24366470130512854,
          -0.2679347987269822,
          -0.0650713009804944,
          1.1836793059103279,
          -0.21887863678075173,
          -0.20324279856159702,
          -0.26913413031100897,
          -0.2518869316207399,
          -0.24735029794565203,
          -0.21442457952347835,
          -0.20122383718671713,
          -0.19953342191215825,
          -0.2573506219094511,
          0.197910074126891,
          -0.26564879800520247,
          -0.2672669123595795,
          -0.23634501451990722,
          -0.15496568097105595,
          -0.2538033622234552,
          0.3171099382298415,
          -0.26495067913405806,
          -0.26270160878898,
          -0.2555333299197406,
          -0.13399993999797838,
          -0.29533115572718804,
          -0.12674614003811785,
          -0.4126704041476198,
          -0.07185051490226796,
          -0.20001221372314268,
          -0.21987793212760645,
          -0.258777497290092,
          -0.2379320699105039,
          -0.26571349466907435,
          -0.34054870195430664,
          -0.21411073525669108,
          -0.29391423860922866,
          -0.2949324808884184,
          -0.2593208601072228,
          -0.12217492368787411,
          -0.29685678483410305,
          -0.10949523108666592,
          -0.19699670241120265,
          -0.341995868184716,
          -0.2210371495405731,
          -0.8846193831461144,
          -0.15270352238527238,
          0.024483466927228147,
          -0.24910994164133063,
          -0.2936075871020427,
          -0.208451488544416,
          -0.1526116122488399,
          -0.341451889762348,
          -0.21591645329388,
          -0.04916200531231329,
          -0.2651085135679488,
          -0.2694764518868123,
          -0.12048564562794732,
          -0.11920964776774003,
          -0.2224421325265077,
          -0.29746580580056237,
          0.025474404301139335,
          -0.1721160940357089,
          -0.22109236920409267,
          -0.2557727897790006,
          0.3763077877371451,
          -0.12377977756242191,
          -0.29474815085669254,
          -0.06667394306724875,
          -0.2991902241135661,
          0.22907717951085316,
          -0.07476582372499195,
          -0.19764904869492825,
          -0.3057014313115684,
          0.11692215812795403,
          -0.29217218769371395,
          -0.1760939786345199,
          -0.30316687248396396,
          -0.13217997945857887,
          -0.2965790181880258,
          -0.2540205600076449,
          -0.28213642988757676,
          -0.22463632202707992,
          -0.2492204878879023,
          -0.07004549696353157,
          -0.15185607346743304,
          -0.30031720279107466,
          -0.2895557705364042,
          2.3213465808206233,
          -0.07414908685059851,
          -0.17099671662791308,
          -0.2625225685086223,
          -0.13173434326931177,
          -0.22347421723826283,
          -0.2188476166449742,
          -0.22158518921253068,
          -0.28656278818923003,
          -0.21253171306191726,
          1.4382645666881597,
          -0.2824328880864253,
          -0.287390080192252,
          -0.19773559119447856,
          -0.19772382782292794,
          -0.2997448998843036,
          -0.2615212644365648,
          -0.1173001184796489,
          -0.15892705736728255,
          0.17767280753050047,
          -0.24444193636777142,
          -0.1736066915825658,
          -0.27313258124109696,
          -0.20958497646316868,
          -0.2679895417491443,
          -0.30026971646924044,
          -0.22706608590881544,
          -0.28523273640473806,
          0.5114958149979082,
          -0.11421274962075034,
          -0.32327547268146184,
          -0.2033164121093228,
          -0.2246711705813664,
          -0.2592538872031572,
          -0.2896543989638105,
          -0.1969950904855327,
          -0.21611518072175162,
          -0.2656247520268531,
          0.02569117559121484,
          -0.2691687151230002,
          -0.29217922814258435,
          -0.34880667114993263,
          -0.32276621352386387,
          -0.2318612481119276,
          3.8733288115762776,
          0.11735343360574012,
          -0.24503419483894248,
          -0.30535577752531295,
          -0.25705820903467136,
          0.192671954766417,
          -0.11415950167371686,
          -0.28957592290138634,
          -0.2986402147552592,
          -0.2428932523257906,
          -0.24562773914361186,
          -0.3379003096618062,
          -0.11549633896944288,
          -0.17888407981608542,
          -0.23239844912286575,
          -0.22594464462062447,
          0.29756366872299056,
          -0.2513893046567038,
          -0.2933707593852994,
          -0.26975965840362376,
          -0.10299700789295747,
          -0.2802819125277317,
          -0.25743705408568407,
          -0.26323118867965534,
          -0.20811006196555046,
          -0.28468949541465266,
          -0.19040921804882657,
          -0.3500219998113262,
          -0.12423636470193074,
          -0.2744231980170294,
          -0.27103878693264827,
          0.7342535839811558,
          -0.49796559481468916,
          -0.2638345900858004,
          -0.14700192956209546,
          -0.16013414906423887,
          -0.17016133846994577,
          -0.2813588728968737,
          -0.25185479271456795,
          0.7972063444216817,
          -0.26774040428395735,
          -0.05970222113108285,
          -0.0718085225345785,
          -0.3540720833914169,
          -0.20951207287464108,
          -0.05493134048206248,
          -0.2255979072214104,
          -0.004653995564517165,
          -0.33927383168007635,
          -0.01530984245659373,
          -0.2828648741940454,
          -0.2282853444258275,
          -0.2658753175399271,
          -0.25675819402398514,
          -0.2579551817781644,
          -0.2936953379278674,
          -0.039670060978629344,
          -0.25003781906131517,
          -0.21800331861682812,
          -0.20845824639063287,
          -0.26537196019599246,
          3.6254869737991924,
          -0.1761306776443341,
          -0.2884555361105478,
          -0.19406054368062822,
          -0.11781882049842185,
          -0.2262919953699838,
          -0.24445726280808938,
          -0.30064929639611054,
          -0.41397901360579137,
          0.016712463233710423,
          -0.3985747676227774,
          -0.22887572098572695,
          -0.2308593967244532,
          -0.12075900913633598,
          0.20989019211545154,
          0.5450370949018142,
          -0.10404221207781124,
          -0.22105748010655282,
          -0.2264253525200674,
          -0.05690061606089884,
          -0.010031399044093198,
          -0.2637123907380124,
          -0.2348190903043201,
          1.4429353800585891,
          -0.25928728820511276,
          -0.11763312883641323,
          1.811798524870667,
          -0.2967765512624405,
          -0.2937570113600384,
          -0.261240518898369,
          -0.2651196292622871,
          -0.2433718560750912,
          -0.2982607656476733,
          -0.21978352794047065,
          -0.2738419188268883,
          -0.15790835268383238,
          -0.29756434801562415,
          -0.120431723844796,
          -0.34430960312276765,
          -0.3500677059910149,
          -0.11377962571676058,
          1.9008064683016004,
          -0.1923167781552613,
          -0.22610301971739635,
          -0.22204863661224944,
          -0.2139129516400887,
          -0.13470900896813706,
          -0.0975295826302177,
          -0.12329393300848254,
          -0.2331128608254468,
          -0.2502479233979211,
          0.02954918424895569,
          -0.19576272672064124,
          0.3106866132654151,
          -0.23258495979656194,
          -0.050507323531856586,
          -0.2665019313343436,
          -0.22347425105069377,
          0.9552578257048758,
          0.12976202972390036,
          -0.08721153233473278,
          -0.2696015957798944,
          -0.5721877375737895,
          -0.5730395343020154,
          -0.22886693781547496,
          -0.28998022210281504,
          -0.3091317520837825,
          -0.25911503234428174,
          -0.2963842348143784,
          -0.29741184974731266,
          -0.29864702970351675,
          -0.25778434993370264,
          0.22954663382863244,
          -0.13605661445148332,
          -0.1787444959554984,
          -0.263723967360703,
          0.09804230433925183,
          -0.031473760736176234,
          -0.23174442728199718,
          -0.2209694869833651,
          -0.3309976547976111,
          -0.19481670483867622,
          -0.24360495889261163,
          3.8327797978537683,
          -0.015860623374991178,
          -0.29953163310458114,
          -0.086314255241144,
          -0.2628038989676576,
          -0.27627620464026786,
          -0.5715026949622816,
          -0.2699776503296782,
          -0.17048690017594229,
          -0.11048988310739212,
          -0.045701721699097135,
          -0.13554411990373938,
          -0.25215196958117087,
          0.12517879388036404,
          -0.0934423084044674,
          -0.2160556748818839,
          -0.27081701922239587,
          0.1321680868582328,
          -0.26014760951132493,
          -0.2593952080178337,
          -0.2158009546711438,
          -0.2660023076824933,
          -0.20776263422907967,
          -0.28154472807820385,
          -0.29941574741455795,
          -0.22632924222058248,
          -0.19594898267986327,
          5.528376719979411,
          -0.05895050039316415,
          -0.24486545792743095,
          -0.2931408237545163,
          0.031254622132041644,
          -0.3187528188001838,
          -0.3002454046606275,
          -0.14082548912053383,
          3.8429010602754152,
          -0.35004485530533674,
          3.8440208593733187,
          -0.02075290316564579,
          -0.004290392029040576,
          -0.21096568723222078,
          -0.01817662306691038,
          2.6313443190729133,
          -0.26753649035266364,
          -0.10252427781324999,
          -0.2853416599741497,
          -0.22965145877553952
         ],
         "y": [
          -0.07924088937673002,
          -0.0889338397314012,
          -0.12051500436557067,
          -0.06232104455552366,
          -0.04461911282457789,
          -0.03287836423254956,
          -0.03721291948800964,
          -0.02045754984349659,
          -0.055473963378658404,
          -0.07124382026787361,
          -0.3046205740219462,
          -0.10001487818363256,
          -0.0589059987693038,
          -0.05225059293292959,
          -0.0754960380609084,
          -0.23588493111720324,
          -0.011039206219964813,
          -0.05777195492210854,
          -0.08007487291582618,
          -0.06738545412512623,
          -0.07923547460861044,
          -0.060619858505996396,
          -0.0483412250236451,
          -0.059864805392114695,
          -0.049797649466465296,
          -0.0672288862865567,
          -0.04703081579905729,
          0.018696208521587487,
          -0.058686911933966086,
          -0.08511807640979131,
          -0.07549648165660333,
          -0.08116986261442115,
          -0.06413158628194301,
          0.035817176533338095,
          -0.056266063430395204,
          0.024598431650524215,
          -0.13076478672123024,
          -0.07387263709334183,
          -0.06550180343414316,
          -0.07550066522063384,
          -0.05748327426438216,
          -0.05618293065296284,
          -0.0008549837243827017,
          -0.05092409159131176,
          -0.055359271973789696,
          -0.0030475142514569094,
          -0.058141580356796944,
          -0.06507410186065607,
          -0.05882477087598081,
          -0.08812149334133698,
          -0.025372692298641267,
          -0.1048819653591148,
          -0.03721555348034696,
          -0.06232201085595018,
          -0.05639601673823238,
          -0.04591585907524551,
          -0.0612417905252066,
          -0.1470340100595758,
          -0.0614917286255766,
          -0.019797081872820352,
          -0.06624094255518852,
          -0.06445436870104541,
          -0.06598220625056213,
          -0.0701853456723815,
          -0.07179198164854243,
          -0.06156298990218488,
          -0.062320069515174346,
          -0.054434698933473406,
          -0.07177641818241536,
          -0.022378294622762605,
          -0.06981732282627699,
          -0.08372269162247091,
          -0.07614956219487128,
          -0.07549461278430283,
          -0.059832803182337774,
          -0.05486752063071819,
          -0.024875263680052356,
          -0.021308393114635043,
          -0.04154930228751705,
          -0.07272716513078291,
          -0.045852443131937565,
          -0.2871227802542607,
          -0.044728531664879084,
          -0.048308369695848466,
          -0.02039389657823051,
          -0.0441897509983894,
          -0.01716784199455622,
          -0.07891657506507635,
          -0.06496040531020211,
          -0.12562331002672567,
          -0.04747436632758555,
          0.01639513731658652,
          -0.05638628682125391,
          -0.019741931632706055,
          -0.07497942340436345,
          -0.024321735862216535,
          -0.07178189949990807,
          -0.06746987143787912,
          -0.11880498282977926,
          -0.03940676028643336,
          0.059904602173875644,
          -0.040619875696605266,
          -0.0556316406663326,
          -0.06424179552347407,
          -0.015637085389094273,
          -0.05620960771186884,
          -0.059742229690704016,
          -0.05974522071683608,
          -0.09677771910583496,
          -0.053823239049396523,
          -0.056040796710250196,
          -0.060572369172940184,
          -0.06719172917192645,
          -0.08418492307942325,
          -0.05251717946737023,
          -0.020696558817609116,
          -0.018728916344602383,
          -0.06727646737441151,
          0.027937825017207357,
          -0.05691264446212733,
          -0.06106315281970713,
          -0.061348288539151107,
          0.33519288519930696,
          -0.057791335899564436,
          -0.062319374691112275,
          -0.10268243759352608,
          -0.032317588940916075,
          -0.4615175051741943,
          -0.014185822616899458,
          -0.37439425958708233,
          -0.04157843397648733,
          0.7120881568311296,
          -0.0406249688168511,
          -0.022513238517926994,
          -0.0546926832509356,
          -0.059848509839581565,
          -0.05751825448450215,
          -0.058929667751438417,
          -0.07720188930357921,
          0.02567845787647985,
          -0.05425909765966677,
          -0.32272994030666463,
          0.003134682698172469,
          -0.062321982781569,
          -0.16693144988211991,
          -0.06295891556313435,
          -0.19141788123469183,
          -0.05890672630576865,
          -0.029324019841197636,
          -0.03288044122310901,
          -0.00647050290982401,
          -0.057547907209424806,
          -0.0835945127708613,
          -0.07663247326115999,
          -0.07358920893265328,
          0.0020012687511613814,
          -0.015105841113798186,
          -0.06274243159945189,
          0.017159356023436326,
          -0.022493281286924238,
          -0.09839432585905712,
          -0.05784965622407416,
          -0.03547280489448047,
          0.005272314255828925,
          -0.04591196123275314,
          -0.002171928690232872,
          -0.03093575253865811,
          -0.0701223094584146,
          -0.07000833074670952,
          -0.1499986609455301,
          -0.02181107821012352,
          -0.05417216186239844,
          -0.020730092069019334,
          -0.07890275236347281,
          -0.07972209409185851,
          -0.06497561248624496,
          -0.07113603268285804,
          -0.0021681773267854336,
          -0.011996274598143281,
          -0.05820253093080479,
          -0.03774494364202932,
          -0.13666015122885344,
          -0.04181176763862616,
          -0.0774654016206813,
          -0.04892014131520472,
          -0.035619973567896826,
          -0.09064471769397368,
          -0.11542850480233663,
          -0.06719187342084638,
          -0.05889740909050897,
          -0.059785748747628306,
          -0.04302584322810007,
          -0.09387320066646657,
          -0.039210496961009166,
          -0.1549284120007689,
          0.041405253153365615,
          -0.06720152460768097,
          -0.023384202084337544,
          0.17867275112938535,
          0.04591938297412091,
          -0.09672801066001145,
          -0.042650957242385844,
          0.04496168745659379,
          -0.14475421322505466,
          -0.07030358267970996,
          -0.07124327954030711,
          0.17024308311240294,
          -0.019488203432488072,
          -0.0599994407798666,
          -0.01367277738521021,
          -0.14627305582397368,
          -0.021229897444043414,
          -0.006291588402141958,
          -0.08369700345913761,
          -0.07663047196024153,
          0.0013618771599874467,
          0.005272314255828925,
          -0.07054058234731767,
          -0.04788469187615319,
          -0.0642059700683629,
          0.21843228752342356,
          -0.08221338122603344,
          -0.08222536683491001,
          -0.036529030772072195,
          -0.052851356482709895,
          -0.06700612252504284,
          -0.09388118991892636,
          -0.07355430503522177,
          -0.07957237891772449,
          -0.06390625220877165,
          0.10270447804301078,
          -0.06142570787859631,
          -0.014401552061461936,
          -0.3751143607314165,
          -0.06345210953384904,
          -0.07746599159055985,
          -0.016452845689772077,
          -0.06106321913262687,
          0.004740533172819989,
          -0.08598019284495269,
          -0.010293355998823877,
          -0.0650392037117085,
          -0.22080149766165535,
          -0.055864211081595304,
          -0.10123689360102406,
          -0.01741012610766418,
          -0.07095966782790089,
          -0.06773022946889054,
          -0.049825911316632464,
          -0.21503904019940037,
          -0.07689080206602694,
          0.7674462655932296,
          -0.03007492242274091,
          -0.022057641077020632,
          -0.1041256383406009,
          -0.04193198830662234,
          0.04457074219666953,
          -0.030077476644164637,
          -0.08892989001537938,
          0.013156287051358791,
          -0.028607810580120362,
          -0.08452353004335034,
          -0.08440781783886965,
          -0.06742480121724068,
          -0.07287592521276863,
          -0.03615812069787086,
          -0.06639772716414709,
          -0.07128711656092272,
          -0.04377655513782062,
          0.011977799413765448,
          -0.06521054044361646,
          -0.3250697401366395,
          -0.06434020689822023,
          -0.05823367725803932,
          -0.026644420488178715,
          -0.01848612258092547,
          -0.18313282933983735,
          -0.02132457327086953,
          0.12747238406169856,
          0.014758683327571406,
          -0.041414354501845003,
          -0.09292972247352392,
          -0.014931984622593595,
          -0.10143964837762039,
          -0.04272372021080225,
          -0.05987956697400586,
          -0.05894375764543067,
          -0.050620715201276534,
          -0.05539703236334125,
          -0.000593991100295686,
          -0.11940040203345763,
          -0.03323184212319439,
          -0.11269333312389805,
          -0.07107356869162516,
          -0.13856906088209595,
          -0.10070933344744072,
          -0.45248234553356664,
          0.007064590589354769,
          -0.04273610462830075,
          -0.062321065461743604,
          -0.028805410044846144,
          -0.07322172427843124,
          -0.05675718794214115,
          0.04060441185434728,
          -0.0957418554070795,
          -0.045912918689769024,
          -0.03286443416982155,
          -0.0498053772859651,
          -0.04980570419501777,
          -0.09075622138916657,
          -0.08450260710195094,
          -0.02444182912235236,
          -0.30967149154356216,
          -0.36167156370261044,
          -0.020492428010922662,
          -0.07865425182398075,
          -0.017339545475505768,
          -0.004165815619902814,
          -0.08928201039687308,
          -0.004440638677943701,
          0.0121309521683497,
          -0.07124682086127741,
          -0.11074355716820039,
          -0.051794474337401634,
          -0.12855513131098736,
          -0.19325052868213952,
          -0.03792093464180519,
          -0.0906445855967895,
          -0.061750752002775404,
          -0.0498259561127261,
          -0.09363729678239728,
          -0.08679637032504527,
          -0.06819859817041195,
          -0.08100194454028208,
          -0.001715071520642217,
          -0.059519124566711164,
          0.0018759057291053564,
          -0.032141080926424793,
          0.06803264363384981,
          -0.145779422712906,
          -0.08268098743830829,
          -0.11791812156051469,
          -0.07807830932282198,
          -0.030962370860809805,
          -0.03509149841370359,
          -0.05264320975250279,
          -0.11400880729845109,
          -0.04133744040826163,
          0.004820826529620138,
          -0.017484954968679155,
          -0.11813730398035713,
          0.06100408143372258,
          -0.05817428034629926,
          -0.03775399200092494,
          -0.27806973178260164,
          -0.003998100115607554,
          -0.03972132934767719,
          -0.06837520973466701,
          -0.012611401374235123,
          -0.05778212382003506,
          -0.08485062173784769,
          -0.07598737506685949,
          -0.048313763217932855,
          -0.09074467205505658,
          -0.042583528634848315,
          -0.284605597788801,
          -0.013866619695114603,
          -0.07392546847753349,
          -0.005063091110293616,
          -0.04946346976904618,
          -0.11111753343216908,
          -0.08583257805903939,
          -0.016156802410071346,
          -0.06299526626301823,
          -0.02572519716224545,
          0.021301006422458846,
          -0.09509708426024062,
          10.4328969650119,
          -0.05588117766898287,
          -0.06295896605263776,
          -0.01348554715904253,
          -0.4503317354711778,
          -0.017318072026499504,
          -0.13003107465995464,
          -0.0721077189958184,
          -0.046755328392580967,
          -0.06372287691398867,
          -0.029656238796151486,
          -0.07549551915439735,
          0.007705211185122832,
          -0.08594475458439167,
          -0.0704941852634554,
          -0.07140329731363046,
          -0.0608231271744392,
          -0.05606910927124693,
          0.10879121784898717,
          -0.08771932456494591,
          0.039508793628739845,
          -0.05435977175666048,
          0.023033168958340594,
          -0.014930964741645443,
          -0.06178406890668906,
          0.01761308536468377,
          -0.017857397995186004,
          0.009230076888974306,
          -0.0852710849898109,
          -0.08882691318154687,
          -0.37609933534251827,
          -0.10546133724466299,
          0.09215078659562899,
          -0.07951711197770925,
          0.10533749323816857,
          -0.031606110332907666,
          0.3270572149570186,
          -0.04735634114700698,
          -0.08816420335391807,
          -0.07697924385192743,
          0.20584282581252047,
          -0.09099041833452853,
          -0.029802928963010625,
          -0.04801535430177992,
          -0.23410377328796098,
          -0.1899782479003691,
          -0.06199820243732673,
          -0.05980815085114729,
          0.10537978977750598,
          0.04760543796979676,
          -0.07501187103886234,
          -0.0406216469043793,
          0.02168051576074326,
          -0.07091874534898224,
          -0.06251733115334196,
          -0.07378919916929207,
          0.007361536225719872,
          -0.04523789160608381,
          -0.05796494984622457,
          -0.06742629972631808,
          -0.008491615431927052,
          0.515943833318249,
          -0.08751731435192514,
          0.42590433862529514,
          -0.030170044767344542,
          -0.03774959069024291,
          -0.0742610221050551,
          -0.011709214543699022,
          -0.03983174604626142,
          0.04594472805719515,
          -0.02261491866669276,
          -0.002169289019730116,
          -0.0840496014916322,
          -0.28794464581356277,
          0.004613803708483151,
          0.14289949100272162,
          -0.07113900917353239,
          -0.0897771226267925,
          0.07697435224914889,
          -0.06232106452208283,
          -0.3458484569424819,
          -0.030118794808407255,
          -0.02865869668951828,
          -0.0587611868049751,
          -0.04041814221717173,
          -0.04214574232928253,
          -0.053498062365309657,
          -0.07082295786157093,
          -0.07295534408119422,
          -0.09064844443183334,
          -0.06659460976115007,
          -0.0695595689176764,
          -0.06395851316596149,
          -0.05999644026556925,
          -0.10209993820099471,
          0.0301820464966403,
          -0.014971394433737524,
          -0.04801503258255684,
          -0.08812364255880475,
          -0.19066107261751178,
          -0.03487983477295616,
          -0.04460549604349041,
          -0.08638288976066043,
          0.057210592137783706,
          -0.019489863699308357,
          0.06383523535131294,
          -0.08960565607989314,
          -0.0611024331583798,
          -0.03239125242954116,
          -0.007305808951178042,
          -0.07401243760811038,
          -0.05108362480118299,
          -0.08685701966098129,
          -0.07000920385797571,
          -0.067194223739675,
          -0.028703973319953432,
          -0.05251341270737462,
          -0.07220638625640802,
          -0.08339343742686017,
          -0.032701524758646086,
          -0.048308385443383686,
          -0.08364872062805845,
          -0.11052709558025713,
          -0.05318263014186064,
          0.0014936914311391226,
          -0.025868206940997278,
          -0.07570715634355235,
          0.041839425415575136,
          -0.05625482671707257,
          -0.06013985534609534,
          0.4651434429477949,
          -0.05204812417598288,
          0.17123174102095198,
          -0.08143245895399163,
          -0.016264708288841523,
          -0.022601241481775364,
          -0.5423891054708576,
          -0.11852078256695181,
          -0.11196649621860841,
          -0.02645166965919477,
          0.06406232513373808,
          -0.06128959988851278,
          0.06403120544490798,
          -0.047094162443123755,
          0.14668077866761667,
          0.04576009552228864,
          0.06649344447026083,
          -0.02954886890405671,
          -0.07497961944467539,
          -0.022191562287647376,
          -0.07124379382938137,
          -0.07371222629262615
         ],
         "z": [
          -0.05054313572292117,
          -0.054192318247219436,
          0.11402831679269176,
          -0.11883460729481239,
          -0.13064899951917955,
          -0.16084823298371403,
          0.09793040920849153,
          -0.09826969146351199,
          -0.1471256697328867,
          -0.08707181201188437,
          -0.5810098284091092,
          -0.18402308448639845,
          0.014592598074281506,
          -0.11511211120090513,
          -0.13813400165723982,
          0.03438803833222872,
          -0.0411113708589132,
          -0.17544246467703978,
          -0.05517639443750931,
          -0.039901289353528824,
          -0.15903060011485312,
          -0.1654450785014888,
          -0.15711474581459606,
          -0.16245761573452253,
          -0.07792706817724843,
          -0.03918788699683916,
          -0.08244617812543878,
          -0.12992491312745097,
          -0.17521765132063133,
          -0.04780012693261571,
          -0.13813602290385774,
          -0.07210500736003664,
          -0.17389296536573648,
          -0.032376947276917874,
          0.0696757591433432,
          -0.02683064274393813,
          -0.22248841931754693,
          -0.17764607495742415,
          -0.2076316478356278,
          -0.13815508534009088,
          -0.17637252984318816,
          -0.17691518250157487,
          -0.08838163159036919,
          -0.0857888648653641,
          -0.1768737549503674,
          -0.021605832301691972,
          -0.17997672520336805,
          -0.14913111670214305,
          -0.17754893031917676,
          -0.056777051639518475,
          -0.007250938024221509,
          -0.37302695691307236,
          0.09791840740557278,
          -0.11883901024887712,
          -0.17467799967317282,
          -0.14378767149294824,
          -0.1767879636989465,
          0.010260505001916052,
          -0.15654227862711495,
          -0.036239609987972925,
          -0.13722799049497647,
          -0.09877772471155977,
          -0.02584259285985129,
          -0.16663952436505006,
          0.07437281321112525,
          -0.18036484177965273,
          -0.11883016451722747,
          -0.18179044921273374,
          0.07444372824395835,
          0.13061640889024304,
          -0.00871465125636244,
          -0.05113495662861667,
          -0.0798350037635982,
          -0.13812750737528057,
          -0.16231179746122573,
          -0.17520369127250734,
          -0.004984401345756261,
          0.1359707476623509,
          -0.14953583664738576,
          -0.060462871492199054,
          -0.15249530654324786,
          -0.054759898754468746,
          0.08734041227230888,
          -0.1372047671552197,
          -0.14943144910209807,
          -0.15334826188072637,
          -0.019800435196517783,
          -0.0540304402195394,
          0.005460363374113771,
          -0.04604822816152553,
          -0.08564449766921506,
          -0.14317190731092477,
          -0.17463366524429944,
          0.1397171694809427,
          -0.10503720301432476,
          -0.1490277198640754,
          0.07441875258578545,
          -0.07209491798808335,
          -0.49076487961584664,
          -0.15063063573201912,
          0.8892048268350834,
          -0.013916780803417702,
          -0.1735608541599448,
          -0.02980783230061355,
          -0.008186066995484124,
          -0.17267190933636947,
          -0.10761656381035974,
          -0.1778544348346216,
          0.1629795656569393,
          -0.17757384287693045,
          -0.08311559359386031,
          -0.15036186164938448,
          -0.039018580366645836,
          0.09814897701150856,
          -0.1564395069198201,
          -0.1471753823941235,
          -0.026214634167955157,
          -0.11987358465309604,
          -0.04315890220162502,
          -0.1796531707542543,
          -0.06032978678746248,
          -0.17962043248014806,
          -0.06637020957801959,
          -0.17483620950872203,
          -0.11882699854694974,
          -0.26454309345015764,
          0.06364627147884167,
          -0.29793072070071586,
          -0.008356860285259761,
          0.1880947061897357,
          -0.1505050999545568,
          0.18755468947109802,
          -0.03548314278341451,
          0.0796917118732509,
          -0.17413895262024462,
          -0.16238336494530048,
          -0.06317110426543102,
          -0.2000996061437324,
          0.11487648256314208,
          -0.06656050701373754,
          -0.052632490583934224,
          0.03512845533119401,
          0.00847891765920986,
          -0.11883888232777971,
          -0.06260040032604385,
          -0.13922483785528747,
          -0.3709178540631711,
          0.014589283049729593,
          0.11294389858295337,
          -0.1608576968044404,
          -0.06952156690649298,
          -0.19927508103382321,
          0.0022505077127452726,
          -0.07305455286518338,
          -0.16745078368164074,
          -0.058158353375419164,
          -0.012840321360945518,
          -0.18170373750448468,
          -0.22951954184906306,
          0.129410458995072,
          -0.24957725395336486,
          -0.015528466317172184,
          0.15617244003068234,
          -0.10969866292141726,
          -0.14376991094872996,
          0.028717697392048425,
          0.07280251070562076,
          -0.021657052034269913,
          -0.026997905080106264,
          0.006084695912232478,
          0.1355869364893826,
          -0.1754888631195386,
          0.09036018194914534,
          -0.0770456549537919,
          -0.0467328284477453,
          0.005391071779320122,
          0.025731858905717706,
          0.028734790503562237,
          0.015991112746618796,
          0.05878974024887439,
          0.10407044325395658,
          -0.04914677568805015,
          -0.06659348522715444,
          -0.03536334159131478,
          -0.14859950622888474,
          0.09572677591999948,
          -0.05468243176202883,
          -0.14989189148802526,
          -0.0390192376377703,
          -0.1027901978850654,
          -0.10781485867125785,
          -0.14980751986951807,
          -0.025721541477070682,
          -0.11148165653756567,
          0.23987297762772436,
          -0.13295612746613084,
          -0.039063213332238576,
          0.13848616903741984,
          -0.2331030055821571,
          -0.13292119556735574,
          0.045766118248019245,
          0.12931751009946224,
          -0.13705229641001934,
          0.28553677050626186,
          -0.20115757480769927,
          -0.08706934818328371,
          0.013594635030766668,
          0.07462033443107238,
          -0.1734743990477363,
          0.003760216218623792,
          -0.03505491177272551,
          0.13573506862063975,
          -0.04799960739295493,
          -0.0470758413079952,
          -0.07304543392476283,
          0.006908846118405229,
          -0.10969866292141726,
          0.10941920655997472,
          -0.041014593020861,
          -0.027557965370402376,
          0.42318573588852504,
          -0.04608055407111608,
          -0.04291979229561796,
          0.06657622143126046,
          -0.10594028228939936,
          -0.005950415677843449,
          -0.24191290066457474,
          -0.04902156021607663,
          -0.05256852880816673,
          -0.06814228128006869,
          0.08624546424316629,
          -0.1764823238027592,
          -0.04175418562612655,
          0.19404223959456343,
          -0.01434361240072845,
          -0.03536602979283584,
          0.13690786677371605,
          -0.06033008894270437,
          0.011271081135204796,
          -0.04566252823246534,
          -0.13153140894217194,
          -0.12451563639494241,
          -0.19606246371155245,
          -0.1726821552192222,
          0.04899152550525891,
          -0.05271338491543636,
          -0.07241476197151604,
          -0.07328124101970764,
          -0.07805584347808946,
          0.036174475830105385,
          -0.17293161457440642,
          -0.5708416357961145,
          0.10817689810619119,
          0.6091047162374219,
          0.024840301716209736,
          -0.12977097140863902,
          -0.12352112624539341,
          0.10816525977995495,
          -0.08424556465994887,
          -0.07926750639780233,
          0.08818526747418486,
          -0.04810015705544468,
          -0.04651610987996088,
          -0.07188955523981118,
          -0.13511793403943564,
          0.06780231068709518,
          -0.17168588835438423,
          -0.1448866371879972,
          -0.15796665595416925,
          -0.07739208731662485,
          -0.06460531711450566,
          -0.1245778864509269,
          -0.13862939949579714,
          -0.17379900841402707,
          0.055329182616919124,
          -0.1239009063923875,
          -0.054622713565726996,
          -0.07410324251405212,
          0.06009691281243793,
          -0.06176728489311784,
          -0.1296930729320645,
          0.03995924566735218,
          0.024699165512604187,
          -0.0014528338079876876,
          0.13002164532596472,
          -0.17561049806629297,
          0.08543271388472791,
          -0.11312938193404311,
          0.025944263385921977,
          0.012900752970344891,
          -0.07940500300665386,
          -0.08247115480421084,
          0.17124855041938075,
          -0.09112124068024857,
          -0.5304776204609077,
          -0.18730334711946967,
          -0.4586344668214462,
          -0.030990127121587052,
          0.12996521564851451,
          -0.11883470255413608,
          0.13584584950332196,
          -0.1650928833097052,
          -0.15464480375470788,
          -0.13019327526128827,
          -0.32158403837407223,
          -0.1437742736077397,
          -0.16078476056387256,
          -0.07796228003616933,
          -0.07796376959935639,
          -0.056099106148908125,
          -0.049870209038869344,
          -0.09301782107539544,
          -0.5760755121312252,
          -0.6935577215985563,
          0.1199083713332735,
          -0.12701405320516504,
          0.06008895071592737,
          0.010512119156140703,
          -0.04576672872995979,
          0.023495274663031675,
          -0.16590467965889918,
          -0.08708548423490936,
          -0.1511246826541852,
          0.02471846424892473,
          -0.013226078571266543,
          0.07682864507682587,
          0.039414488542869844,
          -0.054681829860365766,
          0.036517424667090466,
          -0.07805604759177635,
          -0.08497468241054895,
          -0.05016353973466136,
          -0.16907380992273302,
          0.004332066040051639,
          -0.07860370445846848,
          -0.19694802585081742,
          0.0068486704077185155,
          0.096672978191024,
          -0.07043607223973603,
          -0.028949928624194543,
          0.05774051444782225,
          -0.1950299755390787,
          -0.05563982669093611,
          -0.13596850480751013,
          -0.11711590659822664,
          -0.18196174970004741,
          -0.08921780927550546,
          -0.07315885524815371,
          0.009389824874888509,
          -0.1332540682393445,
          -0.07364968865828535,
          -0.08983395140066577,
          -0.18370037692491886,
          0.10402921434884353,
          -0.25028093330618373,
          0.011387334077982545,
          -0.048442255661432364,
          -0.06951238731774084,
          -0.008480169098961909,
          -0.17548879932541067,
          -0.05160860212530301,
          -0.04874811449092477,
          -0.020582233592226617,
          0.05663711766801424,
          -0.15528141666954773,
          0.2321840772988495,
          0.059428569067513703,
          -0.19547628510488024,
          -0.07607899828574914,
          -0.2123933503339615,
          0.12088574303844192,
          -0.05116601915800523,
          -0.07900936165111669,
          -0.18712489700081575,
          0.02056753135001135,
          -0.1167211154378221,
          0.05285072275388464,
          -19.32469448300953,
          -0.11830315891258435,
          -0.20693449359440003,
          0.0046133319402932044,
          0.5278575043288246,
          0.11218082393982153,
          0.07306614406917504,
          -0.16401524046855584,
          -0.13968467540831297,
          -0.19614514087329843,
          -0.12326040161303989,
          -0.13813163725640712,
          0.0426955754478918,
          0.05669556401853161,
          -0.0069384015541571,
          -0.03608920594904939,
          -0.09807459128095818,
          -0.08324459995892004,
          -0.18931377811966876,
          -0.09067462941921618,
          -0.12512799384936688,
          -0.02803279850447933,
          -0.08751006407317785,
          0.024703812606660876,
          0.0363656159815618,
          -0.13467007558545518,
          -0.09901247688570769,
          -0.17539503988492172,
          -0.04946635940300121,
          -0.08286774297133091,
          0.19074564138927497,
          0.02765375653243243,
          -0.11122413083664584,
          -0.1664331024369892,
          -0.19131797865114966,
          -0.10082165624978519,
          -0.24208095973216295,
          -0.1862869767172932,
          -0.0690013416367401,
          -0.168349376102433,
          0.04267748990799132,
          0.17169532757218625,
          -0.12392879629547661,
          -0.07734339951618137,
          -0.06862566377126562,
          -0.5069169496815343,
          -0.07537995264777252,
          -0.14604935391053372,
          0.1121899937721635,
          -0.26625623634361273,
          -0.09386884706690364,
          -0.03546800646801297,
          -0.13702618612733344,
          -0.0675103158338591,
          0.04413979212879554,
          -0.17008901079316294,
          -0.030433207140516314,
          -0.007383280016940968,
          -0.1771290526354617,
          -0.07189638320599552,
          -0.13074535129498696,
          -0.05086309814052385,
          -0.07264898395155343,
          -0.5004605062854024,
          -0.021873481813877008,
          0.10404926894908013,
          -0.17084067033924,
          -0.10485547797866296,
          -0.24148233993415866,
          -0.033782979053761514,
          0.03962677745783074,
          0.02872972506755857,
          -0.04818474946401768,
          -0.5744702409486346,
          -0.09991480105830639,
          0.11328902490731721,
          -0.0812999680480815,
          -0.0008404423319692129,
          -0.1798098113118056,
          -0.11883469827256113,
          -0.08645583468817898,
          -0.028876584430872775,
          -0.10190600978664137,
          0.024500037728289525,
          0.00443539110065611,
          0.009067609025607716,
          -0.08209207924046891,
          -0.09489475316301693,
          -0.14014902106734317,
          -0.05469941266689602,
          -0.07355500455150564,
          0.04117838075616867,
          -0.0637586930942288,
          -0.07459705512651439,
          -0.11671016627065184,
          0.0013788096166181282,
          0.01894648774540135,
          -0.07734193360048565,
          0.05171674463315191,
          0.046842846040255987,
          0.0942388453461878,
          -0.15618195839599944,
          0.04070420896796292,
          -0.06536327808063785,
          0.07461276941469876,
          -0.1290059376984451,
          -0.08093903008419272,
          -0.17670694778745108,
          0.06331062332231731,
          -0.0453125067690661,
          -0.01918529646726126,
          0.006434505906921326,
          -0.05247676080113482,
          -0.10393080427265457,
          -0.03902994688052959,
          0.08774710133578896,
          -0.15642234365383687,
          -0.07256254915027709,
          -0.06594684342747148,
          0.030087884862861285,
          -0.13720483890896532,
          -0.05538956167615293,
          -0.19145035088670234,
          -0.02991435074711348,
          -0.11722023423996385,
          0.1351818877915767,
          -0.06684699066025088,
          -0.1321802628277071,
          -0.11954172832044076,
          -0.17377076642019412,
          0.16303059016167948,
          -0.04536323101624324,
          0.027102791850152325,
          -0.18820500887626576,
          -0.08714909629480216,
          0.12311690168202392,
          -0.5102384752368595,
          -0.18905236406093617,
          0.16747692282385765,
          -0.3743383455121406,
          -0.09616222104434619,
          -0.20218491021861232,
          -0.0963040181053264,
          -0.1225270929176185,
          1.0517973433030703,
          -0.13000639208972525,
          -0.12255822175202552,
          -0.23683087592573257,
          -0.07885173710538704,
          -0.09635700210897187,
          -0.08707169154473579,
          -0.14066591523769345
         ]
        },
        {
         "hovertemplate": "class=%{marker.color}<br>PC 1=%{x}<br>PC 2=%{y}<br>PC 3=%{z}<extra></extra>",
         "legendgroup": "3",
         "marker": {
          "color": [
           3,
           3
          ],
          "coloraxis": "coloraxis",
          "symbol": "diamond"
         },
         "mode": "markers",
         "name": "3",
         "scene": "scene",
         "showlegend": true,
         "type": "scatter3d",
         "x": [
          12.713769526085025,
          -0.32684016064922
         ],
         "y": [
          2.720613983164989,
          -18.799992261628777
         ],
         "z": [
          16.785938265802162,
          24.141653378436423
         ]
        },
        {
         "hovertemplate": "class=%{marker.color}<br>PC 1=%{x}<br>PC 2=%{y}<br>PC 3=%{z}<extra></extra>",
         "legendgroup": "1",
         "marker": {
          "color": [
           1
          ],
          "coloraxis": "coloraxis",
          "symbol": "square"
         },
         "mode": "markers",
         "name": "1",
         "scene": "scene",
         "showlegend": true,
         "type": "scatter3d",
         "x": [
          -0.5762012245743233
         ],
         "y": [
          33.50926230318945
         ],
         "z": [
          17.9745610894642
         ]
        },
        {
         "hovertemplate": "class=%{marker.color}<br>PC 1=%{x}<br>PC 2=%{y}<br>PC 3=%{z}<extra></extra>",
         "legendgroup": "2",
         "marker": {
          "color": [
           2
          ],
          "coloraxis": "coloraxis",
          "symbol": "x"
         },
         "mode": "markers",
         "name": "2",
         "scene": "scene",
         "showlegend": true,
         "type": "scatter3d",
         "x": [
          36.36608151951528
         ],
         "y": [
          -0.9929220130155252
         ],
         "z": [
          -4.910250701675135
         ]
        }
       ],
       "layout": {
        "autosize": true,
        "coloraxis": {
         "colorbar": {
          "title": {
           "text": "class"
          }
         },
         "colorscale": [
          [
           0,
           "#0d0887"
          ],
          [
           0.1111111111111111,
           "#46039f"
          ],
          [
           0.2222222222222222,
           "#7201a8"
          ],
          [
           0.3333333333333333,
           "#9c179e"
          ],
          [
           0.4444444444444444,
           "#bd3786"
          ],
          [
           0.5555555555555556,
           "#d8576b"
          ],
          [
           0.6666666666666666,
           "#ed7953"
          ],
          [
           0.7777777777777778,
           "#fb9f3a"
          ],
          [
           0.8888888888888888,
           "#fdca26"
          ],
          [
           1,
           "#f0f921"
          ]
         ]
        },
        "legend": {
         "title": {
          "text": "class"
         },
         "tracegroupgap": 0,
         "x": 0,
         "y": 1
        },
        "margin": {
         "t": 60
        },
        "scene": {
         "aspectmode": "auto",
         "aspectratio": {
          "x": 0.8482276105511335,
          "y": 1.191122661696191,
          "z": 0.9897627559341984
         },
         "camera": {
          "center": {
           "x": 0,
           "y": 0,
           "z": 0
          },
          "eye": {
           "x": 0.24824909860509695,
           "y": 0.2482490986050969,
           "z": 0.2482490986050969
          },
          "projection": {
           "type": "perspective"
          },
          "up": {
           "x": 0,
           "y": 0,
           "z": 1
          }
         },
         "domain": {
          "x": [
           0,
           1
          ],
          "y": [
           0,
           1
          ]
         },
         "xaxis": {
          "title": {
           "text": "PC 1"
          },
          "type": "linear"
         },
         "yaxis": {
          "title": {
           "text": "PC 2"
          },
          "type": "linear"
         },
         "zaxis": {
          "title": {
           "text": "PC 3"
          },
          "type": "linear"
         }
        },
        "template": {
         "data": {
          "bar": [
           {
            "error_x": {
             "color": "#2a3f5f"
            },
            "error_y": {
             "color": "#2a3f5f"
            },
            "marker": {
             "line": {
              "color": "#E5ECF6",
              "width": 0.5
             }
            },
            "type": "bar"
           }
          ],
          "barpolar": [
           {
            "marker": {
             "line": {
              "color": "#E5ECF6",
              "width": 0.5
             }
            },
            "type": "barpolar"
           }
          ],
          "carpet": [
           {
            "aaxis": {
             "endlinecolor": "#2a3f5f",
             "gridcolor": "white",
             "linecolor": "white",
             "minorgridcolor": "white",
             "startlinecolor": "#2a3f5f"
            },
            "baxis": {
             "endlinecolor": "#2a3f5f",
             "gridcolor": "white",
             "linecolor": "white",
             "minorgridcolor": "white",
             "startlinecolor": "#2a3f5f"
            },
            "type": "carpet"
           }
          ],
          "choropleth": [
           {
            "colorbar": {
             "outlinewidth": 0,
             "ticks": ""
            },
            "type": "choropleth"
           }
          ],
          "contour": [
           {
            "colorbar": {
             "outlinewidth": 0,
             "ticks": ""
            },
            "colorscale": [
             [
              0,
              "#0d0887"
             ],
             [
              0.1111111111111111,
              "#46039f"
             ],
             [
              0.2222222222222222,
              "#7201a8"
             ],
             [
              0.3333333333333333,
              "#9c179e"
             ],
             [
              0.4444444444444444,
              "#bd3786"
             ],
             [
              0.5555555555555556,
              "#d8576b"
             ],
             [
              0.6666666666666666,
              "#ed7953"
             ],
             [
              0.7777777777777778,
              "#fb9f3a"
             ],
             [
              0.8888888888888888,
              "#fdca26"
             ],
             [
              1,
              "#f0f921"
             ]
            ],
            "type": "contour"
           }
          ],
          "contourcarpet": [
           {
            "colorbar": {
             "outlinewidth": 0,
             "ticks": ""
            },
            "type": "contourcarpet"
           }
          ],
          "heatmap": [
           {
            "colorbar": {
             "outlinewidth": 0,
             "ticks": ""
            },
            "colorscale": [
             [
              0,
              "#0d0887"
             ],
             [
              0.1111111111111111,
              "#46039f"
             ],
             [
              0.2222222222222222,
              "#7201a8"
             ],
             [
              0.3333333333333333,
              "#9c179e"
             ],
             [
              0.4444444444444444,
              "#bd3786"
             ],
             [
              0.5555555555555556,
              "#d8576b"
             ],
             [
              0.6666666666666666,
              "#ed7953"
             ],
             [
              0.7777777777777778,
              "#fb9f3a"
             ],
             [
              0.8888888888888888,
              "#fdca26"
             ],
             [
              1,
              "#f0f921"
             ]
            ],
            "type": "heatmap"
           }
          ],
          "heatmapgl": [
           {
            "colorbar": {
             "outlinewidth": 0,
             "ticks": ""
            },
            "colorscale": [
             [
              0,
              "#0d0887"
             ],
             [
              0.1111111111111111,
              "#46039f"
             ],
             [
              0.2222222222222222,
              "#7201a8"
             ],
             [
              0.3333333333333333,
              "#9c179e"
             ],
             [
              0.4444444444444444,
              "#bd3786"
             ],
             [
              0.5555555555555556,
              "#d8576b"
             ],
             [
              0.6666666666666666,
              "#ed7953"
             ],
             [
              0.7777777777777778,
              "#fb9f3a"
             ],
             [
              0.8888888888888888,
              "#fdca26"
             ],
             [
              1,
              "#f0f921"
             ]
            ],
            "type": "heatmapgl"
           }
          ],
          "histogram": [
           {
            "marker": {
             "colorbar": {
              "outlinewidth": 0,
              "ticks": ""
             }
            },
            "type": "histogram"
           }
          ],
          "histogram2d": [
           {
            "colorbar": {
             "outlinewidth": 0,
             "ticks": ""
            },
            "colorscale": [
             [
              0,
              "#0d0887"
             ],
             [
              0.1111111111111111,
              "#46039f"
             ],
             [
              0.2222222222222222,
              "#7201a8"
             ],
             [
              0.3333333333333333,
              "#9c179e"
             ],
             [
              0.4444444444444444,
              "#bd3786"
             ],
             [
              0.5555555555555556,
              "#d8576b"
             ],
             [
              0.6666666666666666,
              "#ed7953"
             ],
             [
              0.7777777777777778,
              "#fb9f3a"
             ],
             [
              0.8888888888888888,
              "#fdca26"
             ],
             [
              1,
              "#f0f921"
             ]
            ],
            "type": "histogram2d"
           }
          ],
          "histogram2dcontour": [
           {
            "colorbar": {
             "outlinewidth": 0,
             "ticks": ""
            },
            "colorscale": [
             [
              0,
              "#0d0887"
             ],
             [
              0.1111111111111111,
              "#46039f"
             ],
             [
              0.2222222222222222,
              "#7201a8"
             ],
             [
              0.3333333333333333,
              "#9c179e"
             ],
             [
              0.4444444444444444,
              "#bd3786"
             ],
             [
              0.5555555555555556,
              "#d8576b"
             ],
             [
              0.6666666666666666,
              "#ed7953"
             ],
             [
              0.7777777777777778,
              "#fb9f3a"
             ],
             [
              0.8888888888888888,
              "#fdca26"
             ],
             [
              1,
              "#f0f921"
             ]
            ],
            "type": "histogram2dcontour"
           }
          ],
          "mesh3d": [
           {
            "colorbar": {
             "outlinewidth": 0,
             "ticks": ""
            },
            "type": "mesh3d"
           }
          ],
          "parcoords": [
           {
            "line": {
             "colorbar": {
              "outlinewidth": 0,
              "ticks": ""
             }
            },
            "type": "parcoords"
           }
          ],
          "pie": [
           {
            "automargin": true,
            "type": "pie"
           }
          ],
          "scatter": [
           {
            "marker": {
             "colorbar": {
              "outlinewidth": 0,
              "ticks": ""
             }
            },
            "type": "scatter"
           }
          ],
          "scatter3d": [
           {
            "line": {
             "colorbar": {
              "outlinewidth": 0,
              "ticks": ""
             }
            },
            "marker": {
             "colorbar": {
              "outlinewidth": 0,
              "ticks": ""
             }
            },
            "type": "scatter3d"
           }
          ],
          "scattercarpet": [
           {
            "marker": {
             "colorbar": {
              "outlinewidth": 0,
              "ticks": ""
             }
            },
            "type": "scattercarpet"
           }
          ],
          "scattergeo": [
           {
            "marker": {
             "colorbar": {
              "outlinewidth": 0,
              "ticks": ""
             }
            },
            "type": "scattergeo"
           }
          ],
          "scattergl": [
           {
            "marker": {
             "colorbar": {
              "outlinewidth": 0,
              "ticks": ""
             }
            },
            "type": "scattergl"
           }
          ],
          "scattermapbox": [
           {
            "marker": {
             "colorbar": {
              "outlinewidth": 0,
              "ticks": ""
             }
            },
            "type": "scattermapbox"
           }
          ],
          "scatterpolar": [
           {
            "marker": {
             "colorbar": {
              "outlinewidth": 0,
              "ticks": ""
             }
            },
            "type": "scatterpolar"
           }
          ],
          "scatterpolargl": [
           {
            "marker": {
             "colorbar": {
              "outlinewidth": 0,
              "ticks": ""
             }
            },
            "type": "scatterpolargl"
           }
          ],
          "scatterternary": [
           {
            "marker": {
             "colorbar": {
              "outlinewidth": 0,
              "ticks": ""
             }
            },
            "type": "scatterternary"
           }
          ],
          "surface": [
           {
            "colorbar": {
             "outlinewidth": 0,
             "ticks": ""
            },
            "colorscale": [
             [
              0,
              "#0d0887"
             ],
             [
              0.1111111111111111,
              "#46039f"
             ],
             [
              0.2222222222222222,
              "#7201a8"
             ],
             [
              0.3333333333333333,
              "#9c179e"
             ],
             [
              0.4444444444444444,
              "#bd3786"
             ],
             [
              0.5555555555555556,
              "#d8576b"
             ],
             [
              0.6666666666666666,
              "#ed7953"
             ],
             [
              0.7777777777777778,
              "#fb9f3a"
             ],
             [
              0.8888888888888888,
              "#fdca26"
             ],
             [
              1,
              "#f0f921"
             ]
            ],
            "type": "surface"
           }
          ],
          "table": [
           {
            "cells": {
             "fill": {
              "color": "#EBF0F8"
             },
             "line": {
              "color": "white"
             }
            },
            "header": {
             "fill": {
              "color": "#C8D4E3"
             },
             "line": {
              "color": "white"
             }
            },
            "type": "table"
           }
          ]
         },
         "layout": {
          "annotationdefaults": {
           "arrowcolor": "#2a3f5f",
           "arrowhead": 0,
           "arrowwidth": 1
          },
          "coloraxis": {
           "colorbar": {
            "outlinewidth": 0,
            "ticks": ""
           }
          },
          "colorscale": {
           "diverging": [
            [
             0,
             "#8e0152"
            ],
            [
             0.1,
             "#c51b7d"
            ],
            [
             0.2,
             "#de77ae"
            ],
            [
             0.3,
             "#f1b6da"
            ],
            [
             0.4,
             "#fde0ef"
            ],
            [
             0.5,
             "#f7f7f7"
            ],
            [
             0.6,
             "#e6f5d0"
            ],
            [
             0.7,
             "#b8e186"
            ],
            [
             0.8,
             "#7fbc41"
            ],
            [
             0.9,
             "#4d9221"
            ],
            [
             1,
             "#276419"
            ]
           ],
           "sequential": [
            [
             0,
             "#0d0887"
            ],
            [
             0.1111111111111111,
             "#46039f"
            ],
            [
             0.2222222222222222,
             "#7201a8"
            ],
            [
             0.3333333333333333,
             "#9c179e"
            ],
            [
             0.4444444444444444,
             "#bd3786"
            ],
            [
             0.5555555555555556,
             "#d8576b"
            ],
            [
             0.6666666666666666,
             "#ed7953"
            ],
            [
             0.7777777777777778,
             "#fb9f3a"
            ],
            [
             0.8888888888888888,
             "#fdca26"
            ],
            [
             1,
             "#f0f921"
            ]
           ],
           "sequentialminus": [
            [
             0,
             "#0d0887"
            ],
            [
             0.1111111111111111,
             "#46039f"
            ],
            [
             0.2222222222222222,
             "#7201a8"
            ],
            [
             0.3333333333333333,
             "#9c179e"
            ],
            [
             0.4444444444444444,
             "#bd3786"
            ],
            [
             0.5555555555555556,
             "#d8576b"
            ],
            [
             0.6666666666666666,
             "#ed7953"
            ],
            [
             0.7777777777777778,
             "#fb9f3a"
            ],
            [
             0.8888888888888888,
             "#fdca26"
            ],
            [
             1,
             "#f0f921"
            ]
           ]
          },
          "colorway": [
           "#636efa",
           "#EF553B",
           "#00cc96",
           "#ab63fa",
           "#FFA15A",
           "#19d3f3",
           "#FF6692",
           "#B6E880",
           "#FF97FF",
           "#FECB52"
          ],
          "font": {
           "color": "#2a3f5f"
          },
          "geo": {
           "bgcolor": "white",
           "lakecolor": "white",
           "landcolor": "#E5ECF6",
           "showlakes": true,
           "showland": true,
           "subunitcolor": "white"
          },
          "hoverlabel": {
           "align": "left"
          },
          "hovermode": "closest",
          "mapbox": {
           "style": "light"
          },
          "paper_bgcolor": "white",
          "plot_bgcolor": "#E5ECF6",
          "polar": {
           "angularaxis": {
            "gridcolor": "white",
            "linecolor": "white",
            "ticks": ""
           },
           "bgcolor": "#E5ECF6",
           "radialaxis": {
            "gridcolor": "white",
            "linecolor": "white",
            "ticks": ""
           }
          },
          "scene": {
           "xaxis": {
            "backgroundcolor": "#E5ECF6",
            "gridcolor": "white",
            "gridwidth": 2,
            "linecolor": "white",
            "showbackground": true,
            "ticks": "",
            "zerolinecolor": "white"
           },
           "yaxis": {
            "backgroundcolor": "#E5ECF6",
            "gridcolor": "white",
            "gridwidth": 2,
            "linecolor": "white",
            "showbackground": true,
            "ticks": "",
            "zerolinecolor": "white"
           },
           "zaxis": {
            "backgroundcolor": "#E5ECF6",
            "gridcolor": "white",
            "gridwidth": 2,
            "linecolor": "white",
            "showbackground": true,
            "ticks": "",
            "zerolinecolor": "white"
           }
          },
          "shapedefaults": {
           "line": {
            "color": "#2a3f5f"
           }
          },
          "ternary": {
           "aaxis": {
            "gridcolor": "white",
            "linecolor": "white",
            "ticks": ""
           },
           "baxis": {
            "gridcolor": "white",
            "linecolor": "white",
            "ticks": ""
           },
           "bgcolor": "#E5ECF6",
           "caxis": {
            "gridcolor": "white",
            "linecolor": "white",
            "ticks": ""
           }
          },
          "title": {
           "x": 0.05
          },
          "xaxis": {
           "automargin": true,
           "gridcolor": "white",
           "linecolor": "white",
           "ticks": "",
           "title": {
            "standoff": 15
           },
           "zerolinecolor": "white",
           "zerolinewidth": 2
          },
          "yaxis": {
           "automargin": true,
           "gridcolor": "white",
           "linecolor": "white",
           "ticks": "",
           "title": {
            "standoff": 15
           },
           "zerolinecolor": "white",
           "zerolinewidth": 2
          }
         }
        }
       }
      },
      "image/png": "[encoded data removed]",
      "text/html": [
       "<div>                            <div id=\"e3677018-a4f6-4ea7-8672-bd8e2cbd1471\" class=\"plotly-graph-div\" style=\"height:525px; width:800px;\"></div>            <script type=\"text/javascript\">                require([\"plotly\"], function(Plotly) {                    window.PLOTLYENV=window.PLOTLYENV || {};                                    if (document.getElementById(\"e3677018-a4f6-4ea7-8672-bd8e2cbd1471\")) {                    Plotly.newPlot(                        \"e3677018-a4f6-4ea7-8672-bd8e2cbd1471\",                        [{\"hovertemplate\": \"class=%{marker.color}<br>PC 1=%{x}<br>PC 2=%{y}<br>PC 3=%{z}<extra></extra>\", \"legendgroup\": \"0\", \"marker\": {\"color\": [0, 0, 0, 0, 0, 0, 0, 0, 0, 0, 0, 0, 0, 0, 0, 0, 0, 0, 0, 0, 0, 0, 0, 0, 0, 0, 0, 0, 0, 0, 0, 0, 0, 0, 0, 0, 0, 0, 0, 0, 0, 0, 0, 0, 0, 0, 0, 0, 0, 0, 0, 0, 0, 0, 0, 0, 0, 0, 0, 0, 0, 0, 0, 0, 0, 0, 0, 0, 0, 0, 0, 0, 0, 0, 0, 0, 0, 0, 0, 0, 0, 0, 0, 0, 0, 0, 0, 0, 0, 0, 0, 0, 0, 0, 0, 0, 0, 0, 0, 0, 0, 0, 0, 0, 0, 0, 0, 0, 0, 0, 0, 0, 0, 0, 0, 0, 0, 0, 0, 0, 0, 0, 0, 0, 0, 0, 0, 0, 0, 0, 0, 0, 0, 0, 0, 0, 0, 0, 0, 0, 0, 0, 0, 0, 0, 0, 0, 0, 0, 0, 0, 0, 0, 0, 0, 0, 0, 0, 0, 0, 0, 0, 0, 0, 0, 0, 0, 0, 0, 0, 0, 0, 0, 0, 0, 0, 0, 0, 0, 0, 0, 0, 0, 0, 0, 0, 0, 0, 0, 0, 0, 0, 0, 0, 0, 0, 0, 0, 0, 0, 0, 0, 0, 0, 0, 0, 0, 0, 0, 0, 0, 0, 0, 0, 0, 0, 0, 0, 0, 0, 0, 0, 0, 0, 0, 0, 0, 0, 0, 0, 0, 0, 0, 0, 0, 0, 0, 0, 0, 0, 0, 0, 0, 0, 0, 0, 0, 0, 0, 0, 0, 0, 0, 0, 0, 0, 0, 0, 0, 0, 0, 0, 0, 0, 0, 0, 0, 0, 0, 0, 0, 0, 0, 0, 0, 0, 0, 0, 0, 0, 0, 0, 0, 0, 0, 0, 0, 0, 0, 0, 0, 0, 0, 0, 0, 0, 0, 0, 0, 0, 0, 0, 0, 0, 0, 0, 0, 0, 0, 0, 0, 0, 0, 0, 0, 0, 0, 0, 0, 0, 0, 0, 0, 0, 0, 0, 0, 0, 0, 0, 0, 0, 0, 0, 0, 0, 0, 0, 0, 0, 0, 0, 0, 0, 0, 0, 0, 0, 0, 0, 0, 0, 0, 0, 0, 0, 0, 0, 0, 0, 0, 0, 0, 0, 0, 0, 0, 0, 0, 0, 0, 0, 0, 0, 0, 0, 0, 0, 0, 0, 0, 0, 0, 0, 0, 0, 0, 0, 0, 0, 0, 0, 0, 0, 0, 0, 0, 0, 0, 0, 0, 0, 0, 0, 0, 0, 0, 0, 0, 0, 0, 0, 0, 0, 0, 0, 0, 0, 0, 0, 0, 0, 0, 0, 0, 0, 0, 0, 0, 0, 0, 0, 0, 0, 0, 0, 0, 0, 0, 0, 0, 0, 0, 0, 0, 0, 0, 0, 0, 0, 0, 0, 0, 0, 0, 0, 0, 0, 0, 0, 0, 0, 0, 0, 0, 0, 0, 0, 0, 0, 0, 0, 0, 0, 0, 0, 0, 0, 0, 0, 0, 0, 0, 0, 0, 0, 0, 0, 0, 0, 0, 0, 0, 0, 0, 0, 0, 0, 0, 0, 0, 0, 0, 0, 0, 0, 0, 0, 0, 0, 0, 0, 0, 0, 0, 0, 0, 0, 0, 0, 0, 0, 0, 0, 0, 0, 0, 0, 0], \"coloraxis\": \"coloraxis\", \"symbol\": \"circle\"}, \"mode\": \"markers\", \"name\": \"0\", \"scene\": \"scene\", \"showlegend\": true, \"type\": \"scatter3d\", \"x\": [-0.26755457583510056, -0.2514139053300429, 0.16684483903676225, -0.22347496951976506, -0.15825413485137563, -0.2868888260901713, -0.20881714020774345, -0.15434833390974384, -0.30587444299315764, -0.2853407086215438, -0.1156213897290266, -0.08994293196832179, -0.1712789486570537, -0.12963584412263357, -0.2828462020586637, -0.24203875074524772, -0.2608027833200233, -0.2806478262997742, -0.2653848993812997, -0.10360872133652192, 0.0006916118821452273, -0.2942672315611156, -0.1898908766080301, -0.2899149523192621, -0.19801366612482604, -0.10924259914716487, -0.32855979961286713, -0.26759860305548666, -0.2940996753649646, -0.2669687958294966, -0.2828302398791667, -0.2591462370099262, -0.29810446675329494, -0.30856119122047354, 0.5905564991014625, -0.22617194493880383, -0.06099254167026053, 0.037273016021988015, -0.09561770434842554, -0.2826797000954058, -0.2918232852961643, -0.29477560128549435, -0.06627034319724909, -0.04103916212452795, -0.2957679780009495, -0.2846607445027851, -0.2811815676408884, -0.29124556285006353, -0.2965923463543013, -0.2849060634482357, -0.041019925632374006, 1.1626722224140082, -0.20872235962492652, -0.22344019853116187, -0.29278193008320663, -0.28232708236896675, -0.29537940936155815, 0.048261271384314255, -0.2751264558125354, -0.3194724685348096, 0.15305514718012392, -0.2978149950293206, -0.13544052618767122, -0.22062297771598885, -0.09864291576337994, -0.2570072994836857, -0.2235100550024669, -0.29111463057536774, -0.09920294563456754, -0.29354195825888224, -0.2510796556030728, -0.26382426170092643, 0.2117556244660318, -0.28289748867228637, -0.29106650771659087, -0.29583419500129715, -0.05891920866679916, -0.22317315053766013, -0.17988200667624288, -0.1310396432102567, -0.18917378666664986, -0.177083197611123, -0.25261676008002953, -0.21605624153523242, -0.20281483625384766, -0.189321766732447, -0.11260040830735249, -0.24490128108825288, -0.1739100849001742, -0.30614236278725065, -0.04676048723408186, -0.28997378673488683, -0.2931320477310307, -0.21985862669408737, -0.06695590905028696, -0.22203338328061897, -0.0990057079816953, -0.11886385587665944, 2.8373143856225975, -0.06621584770065862, 0.05537751946130144, 0.05215932710453278, -0.29266112647839465, -0.1579788596700054, -0.09057230709733133, -0.291995574820905, -0.08079207546440938, -0.29588192597522905, -0.3000659806956945, -0.2953255918054667, -0.0406888494515391, -0.28909947476521763, -0.11057964668856517, -0.2629424932370925, -0.13540857823854302, -0.0710524175075274, -0.20775890977795747, -0.12047641823293634, -0.07226207324861807, -0.29686505628386795, -0.2587798834690794, -0.21939837176729768, -0.49246282618094955, -0.29400652323202353, -0.22353505728838566, 0.027896938230614083, -0.08896493431935869, 0.6226483074513551, -0.2592368146474497, -0.4086515472293454, -0.1883652942802688, 0.07309790751006437, -0.26112098445798554, 0.018923285229810922, -0.29729893851920575, -0.2905013253104613, -0.14385808243867795, -0.3479768211221655, -0.23657602668325473, 0.3159322319112035, -0.06078012712512702, -0.26790273071907467, -0.25095463452380695, -0.2234412087490641, -0.1712980727194979, -0.27960146544820147, -0.4356213825491641, -0.17125276926040658, -0.045992118261379666, -0.2868140884486395, -0.16894032188700955, 0.15477958788914725, -0.017844349678722355, -0.25181491756638535, -0.2235380779443187, -0.26547176285429747, -0.26229691693213353, -0.29376476038980043, -0.2720743469443495, -0.22206638211848329, 0.37048186553319884, -0.18495949087444816, -0.013550936585596257, -0.21442457952347835, -0.28246734085709513, -0.23301787592171827, -0.2354673869596867, -0.15969351007204144, -0.16126758301979535, -0.30846847804177285, -0.21987723242490076, -0.2954030278481408, -0.059957506225601594, 0.001665019547611479, -0.2642938339357805, -0.17336287563641156, -0.2355291428226971, -0.2331528635633615, -0.1644571285117382, -0.2831646888480435, -0.22627023734049206, -0.2909401041169587, -0.16985960944983938, -0.20003344297583317, -0.19309972219461122, -0.23514605320800502, -0.2592491338681109, -0.31106873257160406, -0.11057445609006264, -0.2986623838356965, -0.07922610220078967, -0.19095014998292079, -0.4910342636553412, -0.2889904444916441, 0.2628215738086831, -0.20734319322729755, -0.11022717143793102, -0.2185199955478929, -0.2345681546419935, -0.20119407041943974, -0.25660747649505505, -0.12682810893275176, -0.2053980111287508, -0.03290531751403148, -0.3503138065361114, -0.2853601659574341, 5.531293538858935, -0.24366470130512854, -0.2679347987269822, -0.0650713009804944, 1.1836793059103279, -0.21887863678075173, -0.20324279856159702, -0.26913413031100897, -0.2518869316207399, -0.24735029794565203, -0.21442457952347835, -0.20122383718671713, -0.19953342191215825, -0.2573506219094511, 0.197910074126891, -0.26564879800520247, -0.2672669123595795, -0.23634501451990722, -0.15496568097105595, -0.2538033622234552, 0.3171099382298415, -0.26495067913405806, -0.26270160878898, -0.2555333299197406, -0.13399993999797838, -0.29533115572718804, -0.12674614003811785, -0.4126704041476198, -0.07185051490226796, -0.20001221372314268, -0.21987793212760645, -0.258777497290092, -0.2379320699105039, -0.26571349466907435, -0.34054870195430664, -0.21411073525669108, -0.29391423860922866, -0.2949324808884184, -0.2593208601072228, -0.12217492368787411, -0.29685678483410305, -0.10949523108666592, -0.19699670241120265, -0.341995868184716, -0.2210371495405731, -0.8846193831461144, -0.15270352238527238, 0.024483466927228147, -0.24910994164133063, -0.2936075871020427, -0.208451488544416, -0.1526116122488399, -0.341451889762348, -0.21591645329388, -0.04916200531231329, -0.2651085135679488, -0.2694764518868123, -0.12048564562794732, -0.11920964776774003, -0.2224421325265077, -0.29746580580056237, 0.025474404301139335, -0.1721160940357089, -0.22109236920409267, -0.2557727897790006, 0.3763077877371451, -0.12377977756242191, -0.29474815085669254, -0.06667394306724875, -0.2991902241135661, 0.22907717951085316, -0.07476582372499195, -0.19764904869492825, -0.3057014313115684, 0.11692215812795403, -0.29217218769371395, -0.1760939786345199, -0.30316687248396396, -0.13217997945857887, -0.2965790181880258, -0.2540205600076449, -0.28213642988757676, -0.22463632202707992, -0.2492204878879023, -0.07004549696353157, -0.15185607346743304, -0.30031720279107466, -0.2895557705364042, 2.3213465808206233, -0.07414908685059851, -0.17099671662791308, -0.2625225685086223, -0.13173434326931177, -0.22347421723826283, -0.2188476166449742, -0.22158518921253068, -0.28656278818923003, -0.21253171306191726, 1.4382645666881597, -0.2824328880864253, -0.287390080192252, -0.19773559119447856, -0.19772382782292794, -0.2997448998843036, -0.2615212644365648, -0.1173001184796489, -0.15892705736728255, 0.17767280753050047, -0.24444193636777142, -0.1736066915825658, -0.27313258124109696, -0.20958497646316868, -0.2679895417491443, -0.30026971646924044, -0.22706608590881544, -0.28523273640473806, 0.5114958149979082, -0.11421274962075034, -0.32327547268146184, -0.2033164121093228, -0.2246711705813664, -0.2592538872031572, -0.2896543989638105, -0.1969950904855327, -0.21611518072175162, -0.2656247520268531, 0.02569117559121484, -0.2691687151230002, -0.29217922814258435, -0.34880667114993263, -0.32276621352386387, -0.2318612481119276, 3.8733288115762776, 0.11735343360574012, -0.24503419483894248, -0.30535577752531295, -0.25705820903467136, 0.192671954766417, -0.11415950167371686, -0.28957592290138634, -0.2986402147552592, -0.2428932523257906, -0.24562773914361186, -0.3379003096618062, -0.11549633896944288, -0.17888407981608542, -0.23239844912286575, -0.22594464462062447, 0.29756366872299056, -0.2513893046567038, -0.2933707593852994, -0.26975965840362376, -0.10299700789295747, -0.2802819125277317, -0.25743705408568407, -0.26323118867965534, -0.20811006196555046, -0.28468949541465266, -0.19040921804882657, -0.3500219998113262, -0.12423636470193074, -0.2744231980170294, -0.27103878693264827, 0.7342535839811558, -0.49796559481468916, -0.2638345900858004, -0.14700192956209546, -0.16013414906423887, -0.17016133846994577, -0.2813588728968737, -0.25185479271456795, 0.7972063444216817, -0.26774040428395735, -0.05970222113108285, -0.0718085225345785, -0.3540720833914169, -0.20951207287464108, -0.05493134048206248, -0.2255979072214104, -0.004653995564517165, -0.33927383168007635, -0.01530984245659373, -0.2828648741940454, -0.2282853444258275, -0.2658753175399271, -0.25675819402398514, -0.2579551817781644, -0.2936953379278674, -0.039670060978629344, -0.25003781906131517, -0.21800331861682812, -0.20845824639063287, -0.26537196019599246, 3.6254869737991924, -0.1761306776443341, -0.2884555361105478, -0.19406054368062822, -0.11781882049842185, -0.2262919953699838, -0.24445726280808938, -0.30064929639611054, -0.41397901360579137, 0.016712463233710423, -0.3985747676227774, -0.22887572098572695, -0.2308593967244532, -0.12075900913633598, 0.20989019211545154, 0.5450370949018142, -0.10404221207781124, -0.22105748010655282, -0.2264253525200674, -0.05690061606089884, -0.010031399044093198, -0.2637123907380124, -0.2348190903043201, 1.4429353800585891, -0.25928728820511276, -0.11763312883641323, 1.811798524870667, -0.2967765512624405, -0.2937570113600384, -0.261240518898369, -0.2651196292622871, -0.2433718560750912, -0.2982607656476733, -0.21978352794047065, -0.2738419188268883, -0.15790835268383238, -0.29756434801562415, -0.120431723844796, -0.34430960312276765, -0.3500677059910149, -0.11377962571676058, 1.9008064683016004, -0.1923167781552613, -0.22610301971739635, -0.22204863661224944, -0.2139129516400887, -0.13470900896813706, -0.0975295826302177, -0.12329393300848254, -0.2331128608254468, -0.2502479233979211, 0.02954918424895569, -0.19576272672064124, 0.3106866132654151, -0.23258495979656194, -0.050507323531856586, -0.2665019313343436, -0.22347425105069377, 0.9552578257048758, 0.12976202972390036, -0.08721153233473278, -0.2696015957798944, -0.5721877375737895, -0.5730395343020154, -0.22886693781547496, -0.28998022210281504, -0.3091317520837825, -0.25911503234428174, -0.2963842348143784, -0.29741184974731266, -0.29864702970351675, -0.25778434993370264, 0.22954663382863244, -0.13605661445148332, -0.1787444959554984, -0.263723967360703, 0.09804230433925183, -0.031473760736176234, -0.23174442728199718, -0.2209694869833651, -0.3309976547976111, -0.19481670483867622, -0.24360495889261163, 3.8327797978537683, -0.015860623374991178, -0.29953163310458114, -0.086314255241144, -0.2628038989676576, -0.27627620464026786, -0.5715026949622816, -0.2699776503296782, -0.17048690017594229, -0.11048988310739212, -0.045701721699097135, -0.13554411990373938, -0.25215196958117087, 0.12517879388036404, -0.0934423084044674, -0.2160556748818839, -0.27081701922239587, 0.1321680868582328, -0.26014760951132493, -0.2593952080178337, -0.2158009546711438, -0.2660023076824933, -0.20776263422907967, -0.28154472807820385, -0.29941574741455795, -0.22632924222058248, -0.19594898267986327, 5.528376719979411, -0.05895050039316415, -0.24486545792743095, -0.2931408237545163, 0.031254622132041644, -0.3187528188001838, -0.3002454046606275, -0.14082548912053383, 3.8429010602754152, -0.35004485530533674, 3.8440208593733187, -0.02075290316564579, -0.004290392029040576, -0.21096568723222078, -0.01817662306691038, 2.6313443190729133, -0.26753649035266364, -0.10252427781324999, -0.2853416599741497, -0.22965145877553952], \"y\": [-0.07924088937673002, -0.0889338397314012, -0.12051500436557067, -0.06232104455552366, -0.04461911282457789, -0.03287836423254956, -0.03721291948800964, -0.02045754984349659, -0.055473963378658404, -0.07124382026787361, -0.3046205740219462, -0.10001487818363256, -0.0589059987693038, -0.05225059293292959, -0.0754960380609084, -0.23588493111720324, -0.011039206219964813, -0.05777195492210854, -0.08007487291582618, -0.06738545412512623, -0.07923547460861044, -0.060619858505996396, -0.0483412250236451, -0.059864805392114695, -0.049797649466465296, -0.0672288862865567, -0.04703081579905729, 0.018696208521587487, -0.058686911933966086, -0.08511807640979131, -0.07549648165660333, -0.08116986261442115, -0.06413158628194301, 0.035817176533338095, -0.056266063430395204, 0.024598431650524215, -0.13076478672123024, -0.07387263709334183, -0.06550180343414316, -0.07550066522063384, -0.05748327426438216, -0.05618293065296284, -0.0008549837243827017, -0.05092409159131176, -0.055359271973789696, -0.0030475142514569094, -0.058141580356796944, -0.06507410186065607, -0.05882477087598081, -0.08812149334133698, -0.025372692298641267, -0.1048819653591148, -0.03721555348034696, -0.06232201085595018, -0.05639601673823238, -0.04591585907524551, -0.0612417905252066, -0.1470340100595758, -0.0614917286255766, -0.019797081872820352, -0.06624094255518852, -0.06445436870104541, -0.06598220625056213, -0.0701853456723815, -0.07179198164854243, -0.06156298990218488, -0.062320069515174346, -0.054434698933473406, -0.07177641818241536, -0.022378294622762605, -0.06981732282627699, -0.08372269162247091, -0.07614956219487128, -0.07549461278430283, -0.059832803182337774, -0.05486752063071819, -0.024875263680052356, -0.021308393114635043, -0.04154930228751705, -0.07272716513078291, -0.045852443131937565, -0.2871227802542607, -0.044728531664879084, -0.048308369695848466, -0.02039389657823051, -0.0441897509983894, -0.01716784199455622, -0.07891657506507635, -0.06496040531020211, -0.12562331002672567, -0.04747436632758555, 0.01639513731658652, -0.05638628682125391, -0.019741931632706055, -0.07497942340436345, -0.024321735862216535, -0.07178189949990807, -0.06746987143787912, -0.11880498282977926, -0.03940676028643336, 0.059904602173875644, -0.040619875696605266, -0.0556316406663326, -0.06424179552347407, -0.015637085389094273, -0.05620960771186884, -0.059742229690704016, -0.05974522071683608, -0.09677771910583496, -0.053823239049396523, -0.056040796710250196, -0.060572369172940184, -0.06719172917192645, -0.08418492307942325, -0.05251717946737023, -0.020696558817609116, -0.018728916344602383, -0.06727646737441151, 0.027937825017207357, -0.05691264446212733, -0.06106315281970713, -0.061348288539151107, 0.33519288519930696, -0.057791335899564436, -0.062319374691112275, -0.10268243759352608, -0.032317588940916075, -0.4615175051741943, -0.014185822616899458, -0.37439425958708233, -0.04157843397648733, 0.7120881568311296, -0.0406249688168511, -0.022513238517926994, -0.0546926832509356, -0.059848509839581565, -0.05751825448450215, -0.058929667751438417, -0.07720188930357921, 0.02567845787647985, -0.05425909765966677, -0.32272994030666463, 0.003134682698172469, -0.062321982781569, -0.16693144988211991, -0.06295891556313435, -0.19141788123469183, -0.05890672630576865, -0.029324019841197636, -0.03288044122310901, -0.00647050290982401, -0.057547907209424806, -0.0835945127708613, -0.07663247326115999, -0.07358920893265328, 0.0020012687511613814, -0.015105841113798186, -0.06274243159945189, 0.017159356023436326, -0.022493281286924238, -0.09839432585905712, -0.05784965622407416, -0.03547280489448047, 0.005272314255828925, -0.04591196123275314, -0.002171928690232872, -0.03093575253865811, -0.0701223094584146, -0.07000833074670952, -0.1499986609455301, -0.02181107821012352, -0.05417216186239844, -0.020730092069019334, -0.07890275236347281, -0.07972209409185851, -0.06497561248624496, -0.07113603268285804, -0.0021681773267854336, -0.011996274598143281, -0.05820253093080479, -0.03774494364202932, -0.13666015122885344, -0.04181176763862616, -0.0774654016206813, -0.04892014131520472, -0.035619973567896826, -0.09064471769397368, -0.11542850480233663, -0.06719187342084638, -0.05889740909050897, -0.059785748747628306, -0.04302584322810007, -0.09387320066646657, -0.039210496961009166, -0.1549284120007689, 0.041405253153365615, -0.06720152460768097, -0.023384202084337544, 0.17867275112938535, 0.04591938297412091, -0.09672801066001145, -0.042650957242385844, 0.04496168745659379, -0.14475421322505466, -0.07030358267970996, -0.07124327954030711, 0.17024308311240294, -0.019488203432488072, -0.0599994407798666, -0.01367277738521021, -0.14627305582397368, -0.021229897444043414, -0.006291588402141958, -0.08369700345913761, -0.07663047196024153, 0.0013618771599874467, 0.005272314255828925, -0.07054058234731767, -0.04788469187615319, -0.0642059700683629, 0.21843228752342356, -0.08221338122603344, -0.08222536683491001, -0.036529030772072195, -0.052851356482709895, -0.06700612252504284, -0.09388118991892636, -0.07355430503522177, -0.07957237891772449, -0.06390625220877165, 0.10270447804301078, -0.06142570787859631, -0.014401552061461936, -0.3751143607314165, -0.06345210953384904, -0.07746599159055985, -0.016452845689772077, -0.06106321913262687, 0.004740533172819989, -0.08598019284495269, -0.010293355998823877, -0.0650392037117085, -0.22080149766165535, -0.055864211081595304, -0.10123689360102406, -0.01741012610766418, -0.07095966782790089, -0.06773022946889054, -0.049825911316632464, -0.21503904019940037, -0.07689080206602694, 0.7674462655932296, -0.03007492242274091, -0.022057641077020632, -0.1041256383406009, -0.04193198830662234, 0.04457074219666953, -0.030077476644164637, -0.08892989001537938, 0.013156287051358791, -0.028607810580120362, -0.08452353004335034, -0.08440781783886965, -0.06742480121724068, -0.07287592521276863, -0.03615812069787086, -0.06639772716414709, -0.07128711656092272, -0.04377655513782062, 0.011977799413765448, -0.06521054044361646, -0.3250697401366395, -0.06434020689822023, -0.05823367725803932, -0.026644420488178715, -0.01848612258092547, -0.18313282933983735, -0.02132457327086953, 0.12747238406169856, 0.014758683327571406, -0.041414354501845003, -0.09292972247352392, -0.014931984622593595, -0.10143964837762039, -0.04272372021080225, -0.05987956697400586, -0.05894375764543067, -0.050620715201276534, -0.05539703236334125, -0.000593991100295686, -0.11940040203345763, -0.03323184212319439, -0.11269333312389805, -0.07107356869162516, -0.13856906088209595, -0.10070933344744072, -0.45248234553356664, 0.007064590589354769, -0.04273610462830075, -0.062321065461743604, -0.028805410044846144, -0.07322172427843124, -0.05675718794214115, 0.04060441185434728, -0.0957418554070795, -0.045912918689769024, -0.03286443416982155, -0.0498053772859651, -0.04980570419501777, -0.09075622138916657, -0.08450260710195094, -0.02444182912235236, -0.30967149154356216, -0.36167156370261044, -0.020492428010922662, -0.07865425182398075, -0.017339545475505768, -0.004165815619902814, -0.08928201039687308, -0.004440638677943701, 0.0121309521683497, -0.07124682086127741, -0.11074355716820039, -0.051794474337401634, -0.12855513131098736, -0.19325052868213952, -0.03792093464180519, -0.0906445855967895, -0.061750752002775404, -0.0498259561127261, -0.09363729678239728, -0.08679637032504527, -0.06819859817041195, -0.08100194454028208, -0.001715071520642217, -0.059519124566711164, 0.0018759057291053564, -0.032141080926424793, 0.06803264363384981, -0.145779422712906, -0.08268098743830829, -0.11791812156051469, -0.07807830932282198, -0.030962370860809805, -0.03509149841370359, -0.05264320975250279, -0.11400880729845109, -0.04133744040826163, 0.004820826529620138, -0.017484954968679155, -0.11813730398035713, 0.06100408143372258, -0.05817428034629926, -0.03775399200092494, -0.27806973178260164, -0.003998100115607554, -0.03972132934767719, -0.06837520973466701, -0.012611401374235123, -0.05778212382003506, -0.08485062173784769, -0.07598737506685949, -0.048313763217932855, -0.09074467205505658, -0.042583528634848315, -0.284605597788801, -0.013866619695114603, -0.07392546847753349, -0.005063091110293616, -0.04946346976904618, -0.11111753343216908, -0.08583257805903939, -0.016156802410071346, -0.06299526626301823, -0.02572519716224545, 0.021301006422458846, -0.09509708426024062, 10.4328969650119, -0.05588117766898287, -0.06295896605263776, -0.01348554715904253, -0.4503317354711778, -0.017318072026499504, -0.13003107465995464, -0.0721077189958184, -0.046755328392580967, -0.06372287691398867, -0.029656238796151486, -0.07549551915439735, 0.007705211185122832, -0.08594475458439167, -0.0704941852634554, -0.07140329731363046, -0.0608231271744392, -0.05606910927124693, 0.10879121784898717, -0.08771932456494591, 0.039508793628739845, -0.05435977175666048, 0.023033168958340594, -0.014930964741645443, -0.06178406890668906, 0.01761308536468377, -0.017857397995186004, 0.009230076888974306, -0.0852710849898109, -0.08882691318154687, -0.37609933534251827, -0.10546133724466299, 0.09215078659562899, -0.07951711197770925, 0.10533749323816857, -0.031606110332907666, 0.3270572149570186, -0.04735634114700698, -0.08816420335391807, -0.07697924385192743, 0.20584282581252047, -0.09099041833452853, -0.029802928963010625, -0.04801535430177992, -0.23410377328796098, -0.1899782479003691, -0.06199820243732673, -0.05980815085114729, 0.10537978977750598, 0.04760543796979676, -0.07501187103886234, -0.0406216469043793, 0.02168051576074326, -0.07091874534898224, -0.06251733115334196, -0.07378919916929207, 0.007361536225719872, -0.04523789160608381, -0.05796494984622457, -0.06742629972631808, -0.008491615431927052, 0.515943833318249, -0.08751731435192514, 0.42590433862529514, -0.030170044767344542, -0.03774959069024291, -0.0742610221050551, -0.011709214543699022, -0.03983174604626142, 0.04594472805719515, -0.02261491866669276, -0.002169289019730116, -0.0840496014916322, -0.28794464581356277, 0.004613803708483151, 0.14289949100272162, -0.07113900917353239, -0.0897771226267925, 0.07697435224914889, -0.06232106452208283, -0.3458484569424819, -0.030118794808407255, -0.02865869668951828, -0.0587611868049751, -0.04041814221717173, -0.04214574232928253, -0.053498062365309657, -0.07082295786157093, -0.07295534408119422, -0.09064844443183334, -0.06659460976115007, -0.0695595689176764, -0.06395851316596149, -0.05999644026556925, -0.10209993820099471, 0.0301820464966403, -0.014971394433737524, -0.04801503258255684, -0.08812364255880475, -0.19066107261751178, -0.03487983477295616, -0.04460549604349041, -0.08638288976066043, 0.057210592137783706, -0.019489863699308357, 0.06383523535131294, -0.08960565607989314, -0.0611024331583798, -0.03239125242954116, -0.007305808951178042, -0.07401243760811038, -0.05108362480118299, -0.08685701966098129, -0.07000920385797571, -0.067194223739675, -0.028703973319953432, -0.05251341270737462, -0.07220638625640802, -0.08339343742686017, -0.032701524758646086, -0.048308385443383686, -0.08364872062805845, -0.11052709558025713, -0.05318263014186064, 0.0014936914311391226, -0.025868206940997278, -0.07570715634355235, 0.041839425415575136, -0.05625482671707257, -0.06013985534609534, 0.4651434429477949, -0.05204812417598288, 0.17123174102095198, -0.08143245895399163, -0.016264708288841523, -0.022601241481775364, -0.5423891054708576, -0.11852078256695181, -0.11196649621860841, -0.02645166965919477, 0.06406232513373808, -0.06128959988851278, 0.06403120544490798, -0.047094162443123755, 0.14668077866761667, 0.04576009552228864, 0.06649344447026083, -0.02954886890405671, -0.07497961944467539, -0.022191562287647376, -0.07124379382938137, -0.07371222629262615], \"z\": [-0.05054313572292117, -0.054192318247219436, 0.11402831679269176, -0.11883460729481239, -0.13064899951917955, -0.16084823298371403, 0.09793040920849153, -0.09826969146351199, -0.1471256697328867, -0.08707181201188437, -0.5810098284091092, -0.18402308448639845, 0.014592598074281506, -0.11511211120090513, -0.13813400165723982, 0.03438803833222872, -0.0411113708589132, -0.17544246467703978, -0.05517639443750931, -0.039901289353528824, -0.15903060011485312, -0.1654450785014888, -0.15711474581459606, -0.16245761573452253, -0.07792706817724843, -0.03918788699683916, -0.08244617812543878, -0.12992491312745097, -0.17521765132063133, -0.04780012693261571, -0.13813602290385774, -0.07210500736003664, -0.17389296536573648, -0.032376947276917874, 0.0696757591433432, -0.02683064274393813, -0.22248841931754693, -0.17764607495742415, -0.2076316478356278, -0.13815508534009088, -0.17637252984318816, -0.17691518250157487, -0.08838163159036919, -0.0857888648653641, -0.1768737549503674, -0.021605832301691972, -0.17997672520336805, -0.14913111670214305, -0.17754893031917676, -0.056777051639518475, -0.007250938024221509, -0.37302695691307236, 0.09791840740557278, -0.11883901024887712, -0.17467799967317282, -0.14378767149294824, -0.1767879636989465, 0.010260505001916052, -0.15654227862711495, -0.036239609987972925, -0.13722799049497647, -0.09877772471155977, -0.02584259285985129, -0.16663952436505006, 0.07437281321112525, -0.18036484177965273, -0.11883016451722747, -0.18179044921273374, 0.07444372824395835, 0.13061640889024304, -0.00871465125636244, -0.05113495662861667, -0.0798350037635982, -0.13812750737528057, -0.16231179746122573, -0.17520369127250734, -0.004984401345756261, 0.1359707476623509, -0.14953583664738576, -0.060462871492199054, -0.15249530654324786, -0.054759898754468746, 0.08734041227230888, -0.1372047671552197, -0.14943144910209807, -0.15334826188072637, -0.019800435196517783, -0.0540304402195394, 0.005460363374113771, -0.04604822816152553, -0.08564449766921506, -0.14317190731092477, -0.17463366524429944, 0.1397171694809427, -0.10503720301432476, -0.1490277198640754, 0.07441875258578545, -0.07209491798808335, -0.49076487961584664, -0.15063063573201912, 0.8892048268350834, -0.013916780803417702, -0.1735608541599448, -0.02980783230061355, -0.008186066995484124, -0.17267190933636947, -0.10761656381035974, -0.1778544348346216, 0.1629795656569393, -0.17757384287693045, -0.08311559359386031, -0.15036186164938448, -0.039018580366645836, 0.09814897701150856, -0.1564395069198201, -0.1471753823941235, -0.026214634167955157, -0.11987358465309604, -0.04315890220162502, -0.1796531707542543, -0.06032978678746248, -0.17962043248014806, -0.06637020957801959, -0.17483620950872203, -0.11882699854694974, -0.26454309345015764, 0.06364627147884167, -0.29793072070071586, -0.008356860285259761, 0.1880947061897357, -0.1505050999545568, 0.18755468947109802, -0.03548314278341451, 0.0796917118732509, -0.17413895262024462, -0.16238336494530048, -0.06317110426543102, -0.2000996061437324, 0.11487648256314208, -0.06656050701373754, -0.052632490583934224, 0.03512845533119401, 0.00847891765920986, -0.11883888232777971, -0.06260040032604385, -0.13922483785528747, -0.3709178540631711, 0.014589283049729593, 0.11294389858295337, -0.1608576968044404, -0.06952156690649298, -0.19927508103382321, 0.0022505077127452726, -0.07305455286518338, -0.16745078368164074, -0.058158353375419164, -0.012840321360945518, -0.18170373750448468, -0.22951954184906306, 0.129410458995072, -0.24957725395336486, -0.015528466317172184, 0.15617244003068234, -0.10969866292141726, -0.14376991094872996, 0.028717697392048425, 0.07280251070562076, -0.021657052034269913, -0.026997905080106264, 0.006084695912232478, 0.1355869364893826, -0.1754888631195386, 0.09036018194914534, -0.0770456549537919, -0.0467328284477453, 0.005391071779320122, 0.025731858905717706, 0.028734790503562237, 0.015991112746618796, 0.05878974024887439, 0.10407044325395658, -0.04914677568805015, -0.06659348522715444, -0.03536334159131478, -0.14859950622888474, 0.09572677591999948, -0.05468243176202883, -0.14989189148802526, -0.0390192376377703, -0.1027901978850654, -0.10781485867125785, -0.14980751986951807, -0.025721541477070682, -0.11148165653756567, 0.23987297762772436, -0.13295612746613084, -0.039063213332238576, 0.13848616903741984, -0.2331030055821571, -0.13292119556735574, 0.045766118248019245, 0.12931751009946224, -0.13705229641001934, 0.28553677050626186, -0.20115757480769927, -0.08706934818328371, 0.013594635030766668, 0.07462033443107238, -0.1734743990477363, 0.003760216218623792, -0.03505491177272551, 0.13573506862063975, -0.04799960739295493, -0.0470758413079952, -0.07304543392476283, 0.006908846118405229, -0.10969866292141726, 0.10941920655997472, -0.041014593020861, -0.027557965370402376, 0.42318573588852504, -0.04608055407111608, -0.04291979229561796, 0.06657622143126046, -0.10594028228939936, -0.005950415677843449, -0.24191290066457474, -0.04902156021607663, -0.05256852880816673, -0.06814228128006869, 0.08624546424316629, -0.1764823238027592, -0.04175418562612655, 0.19404223959456343, -0.01434361240072845, -0.03536602979283584, 0.13690786677371605, -0.06033008894270437, 0.011271081135204796, -0.04566252823246534, -0.13153140894217194, -0.12451563639494241, -0.19606246371155245, -0.1726821552192222, 0.04899152550525891, -0.05271338491543636, -0.07241476197151604, -0.07328124101970764, -0.07805584347808946, 0.036174475830105385, -0.17293161457440642, -0.5708416357961145, 0.10817689810619119, 0.6091047162374219, 0.024840301716209736, -0.12977097140863902, -0.12352112624539341, 0.10816525977995495, -0.08424556465994887, -0.07926750639780233, 0.08818526747418486, -0.04810015705544468, -0.04651610987996088, -0.07188955523981118, -0.13511793403943564, 0.06780231068709518, -0.17168588835438423, -0.1448866371879972, -0.15796665595416925, -0.07739208731662485, -0.06460531711450566, -0.1245778864509269, -0.13862939949579714, -0.17379900841402707, 0.055329182616919124, -0.1239009063923875, -0.054622713565726996, -0.07410324251405212, 0.06009691281243793, -0.06176728489311784, -0.1296930729320645, 0.03995924566735218, 0.024699165512604187, -0.0014528338079876876, 0.13002164532596472, -0.17561049806629297, 0.08543271388472791, -0.11312938193404311, 0.025944263385921977, 0.012900752970344891, -0.07940500300665386, -0.08247115480421084, 0.17124855041938075, -0.09112124068024857, -0.5304776204609077, -0.18730334711946967, -0.4586344668214462, -0.030990127121587052, 0.12996521564851451, -0.11883470255413608, 0.13584584950332196, -0.1650928833097052, -0.15464480375470788, -0.13019327526128827, -0.32158403837407223, -0.1437742736077397, -0.16078476056387256, -0.07796228003616933, -0.07796376959935639, -0.056099106148908125, -0.049870209038869344, -0.09301782107539544, -0.5760755121312252, -0.6935577215985563, 0.1199083713332735, -0.12701405320516504, 0.06008895071592737, 0.010512119156140703, -0.04576672872995979, 0.023495274663031675, -0.16590467965889918, -0.08708548423490936, -0.1511246826541852, 0.02471846424892473, -0.013226078571266543, 0.07682864507682587, 0.039414488542869844, -0.054681829860365766, 0.036517424667090466, -0.07805604759177635, -0.08497468241054895, -0.05016353973466136, -0.16907380992273302, 0.004332066040051639, -0.07860370445846848, -0.19694802585081742, 0.0068486704077185155, 0.096672978191024, -0.07043607223973603, -0.028949928624194543, 0.05774051444782225, -0.1950299755390787, -0.05563982669093611, -0.13596850480751013, -0.11711590659822664, -0.18196174970004741, -0.08921780927550546, -0.07315885524815371, 0.009389824874888509, -0.1332540682393445, -0.07364968865828535, -0.08983395140066577, -0.18370037692491886, 0.10402921434884353, -0.25028093330618373, 0.011387334077982545, -0.048442255661432364, -0.06951238731774084, -0.008480169098961909, -0.17548879932541067, -0.05160860212530301, -0.04874811449092477, -0.020582233592226617, 0.05663711766801424, -0.15528141666954773, 0.2321840772988495, 0.059428569067513703, -0.19547628510488024, -0.07607899828574914, -0.2123933503339615, 0.12088574303844192, -0.05116601915800523, -0.07900936165111669, -0.18712489700081575, 0.02056753135001135, -0.1167211154378221, 0.05285072275388464, -19.32469448300953, -0.11830315891258435, -0.20693449359440003, 0.0046133319402932044, 0.5278575043288246, 0.11218082393982153, 0.07306614406917504, -0.16401524046855584, -0.13968467540831297, -0.19614514087329843, -0.12326040161303989, -0.13813163725640712, 0.0426955754478918, 0.05669556401853161, -0.0069384015541571, -0.03608920594904939, -0.09807459128095818, -0.08324459995892004, -0.18931377811966876, -0.09067462941921618, -0.12512799384936688, -0.02803279850447933, -0.08751006407317785, 0.024703812606660876, 0.0363656159815618, -0.13467007558545518, -0.09901247688570769, -0.17539503988492172, -0.04946635940300121, -0.08286774297133091, 0.19074564138927497, 0.02765375653243243, -0.11122413083664584, -0.1664331024369892, -0.19131797865114966, -0.10082165624978519, -0.24208095973216295, -0.1862869767172932, -0.0690013416367401, -0.168349376102433, 0.04267748990799132, 0.17169532757218625, -0.12392879629547661, -0.07734339951618137, -0.06862566377126562, -0.5069169496815343, -0.07537995264777252, -0.14604935391053372, 0.1121899937721635, -0.26625623634361273, -0.09386884706690364, -0.03546800646801297, -0.13702618612733344, -0.0675103158338591, 0.04413979212879554, -0.17008901079316294, -0.030433207140516314, -0.007383280016940968, -0.1771290526354617, -0.07189638320599552, -0.13074535129498696, -0.05086309814052385, -0.07264898395155343, -0.5004605062854024, -0.021873481813877008, 0.10404926894908013, -0.17084067033924, -0.10485547797866296, -0.24148233993415866, -0.033782979053761514, 0.03962677745783074, 0.02872972506755857, -0.04818474946401768, -0.5744702409486346, -0.09991480105830639, 0.11328902490731721, -0.0812999680480815, -0.0008404423319692129, -0.1798098113118056, -0.11883469827256113, -0.08645583468817898, -0.028876584430872775, -0.10190600978664137, 0.024500037728289525, 0.00443539110065611, 0.009067609025607716, -0.08209207924046891, -0.09489475316301693, -0.14014902106734317, -0.05469941266689602, -0.07355500455150564, 0.04117838075616867, -0.0637586930942288, -0.07459705512651439, -0.11671016627065184, 0.0013788096166181282, 0.01894648774540135, -0.07734193360048565, 0.05171674463315191, 0.046842846040255987, 0.0942388453461878, -0.15618195839599944, 0.04070420896796292, -0.06536327808063785, 0.07461276941469876, -0.1290059376984451, -0.08093903008419272, -0.17670694778745108, 0.06331062332231731, -0.0453125067690661, -0.01918529646726126, 0.006434505906921326, -0.05247676080113482, -0.10393080427265457, -0.03902994688052959, 0.08774710133578896, -0.15642234365383687, -0.07256254915027709, -0.06594684342747148, 0.030087884862861285, -0.13720483890896532, -0.05538956167615293, -0.19145035088670234, -0.02991435074711348, -0.11722023423996385, 0.1351818877915767, -0.06684699066025088, -0.1321802628277071, -0.11954172832044076, -0.17377076642019412, 0.16303059016167948, -0.04536323101624324, 0.027102791850152325, -0.18820500887626576, -0.08714909629480216, 0.12311690168202392, -0.5102384752368595, -0.18905236406093617, 0.16747692282385765, -0.3743383455121406, -0.09616222104434619, -0.20218491021861232, -0.0963040181053264, -0.1225270929176185, 1.0517973433030703, -0.13000639208972525, -0.12255822175202552, -0.23683087592573257, -0.07885173710538704, -0.09635700210897187, -0.08707169154473579, -0.14066591523769345]}, {\"hovertemplate\": \"class=%{marker.color}<br>PC 1=%{x}<br>PC 2=%{y}<br>PC 3=%{z}<extra></extra>\", \"legendgroup\": \"3\", \"marker\": {\"color\": [3, 3], \"coloraxis\": \"coloraxis\", \"symbol\": \"diamond\"}, \"mode\": \"markers\", \"name\": \"3\", \"scene\": \"scene\", \"showlegend\": true, \"type\": \"scatter3d\", \"x\": [12.713769526085025, -0.32684016064922], \"y\": [2.720613983164989, -18.799992261628777], \"z\": [16.785938265802162, 24.141653378436423]}, {\"hovertemplate\": \"class=%{marker.color}<br>PC 1=%{x}<br>PC 2=%{y}<br>PC 3=%{z}<extra></extra>\", \"legendgroup\": \"1\", \"marker\": {\"color\": [1], \"coloraxis\": \"coloraxis\", \"symbol\": \"square\"}, \"mode\": \"markers\", \"name\": \"1\", \"scene\": \"scene\", \"showlegend\": true, \"type\": \"scatter3d\", \"x\": [-0.5762012245743233], \"y\": [33.50926230318945], \"z\": [17.9745610894642]}, {\"hovertemplate\": \"class=%{marker.color}<br>PC 1=%{x}<br>PC 2=%{y}<br>PC 3=%{z}<extra></extra>\", \"legendgroup\": \"2\", \"marker\": {\"color\": [2], \"coloraxis\": \"coloraxis\", \"symbol\": \"x\"}, \"mode\": \"markers\", \"name\": \"2\", \"scene\": \"scene\", \"showlegend\": true, \"type\": \"scatter3d\", \"x\": [36.36608151951528], \"y\": [-0.9929220130155252], \"z\": [-4.910250701675135]}],                        {\"coloraxis\": {\"colorbar\": {\"title\": {\"text\": \"class\"}}, \"colorscale\": [[0.0, \"#0d0887\"], [0.1111111111111111, \"#46039f\"], [0.2222222222222222, \"#7201a8\"], [0.3333333333333333, \"#9c179e\"], [0.4444444444444444, \"#bd3786\"], [0.5555555555555556, \"#d8576b\"], [0.6666666666666666, \"#ed7953\"], [0.7777777777777778, \"#fb9f3a\"], [0.8888888888888888, \"#fdca26\"], [1.0, \"#f0f921\"]]}, \"legend\": {\"title\": {\"text\": \"class\"}, \"tracegroupgap\": 0, \"x\": 0, \"y\": 1}, \"margin\": {\"t\": 60}, \"scene\": {\"domain\": {\"x\": [0.0, 1.0], \"y\": [0.0, 1.0]}, \"xaxis\": {\"title\": {\"text\": \"PC 1\"}}, \"yaxis\": {\"title\": {\"text\": \"PC 2\"}}, \"zaxis\": {\"title\": {\"text\": \"PC 3\"}}}, \"template\": {\"data\": {\"bar\": [{\"error_x\": {\"color\": \"#2a3f5f\"}, \"error_y\": {\"color\": \"#2a3f5f\"}, \"marker\": {\"line\": {\"color\": \"#E5ECF6\", \"width\": 0.5}}, \"type\": \"bar\"}], \"barpolar\": [{\"marker\": {\"line\": {\"color\": \"#E5ECF6\", \"width\": 0.5}}, \"type\": \"barpolar\"}], \"carpet\": [{\"aaxis\": {\"endlinecolor\": \"#2a3f5f\", \"gridcolor\": \"white\", \"linecolor\": \"white\", \"minorgridcolor\": \"white\", \"startlinecolor\": \"#2a3f5f\"}, \"baxis\": {\"endlinecolor\": \"#2a3f5f\", \"gridcolor\": \"white\", \"linecolor\": \"white\", \"minorgridcolor\": \"white\", \"startlinecolor\": \"#2a3f5f\"}, \"type\": \"carpet\"}], \"choropleth\": [{\"colorbar\": {\"outlinewidth\": 0, \"ticks\": \"\"}, \"type\": \"choropleth\"}], \"contour\": [{\"colorbar\": {\"outlinewidth\": 0, \"ticks\": \"\"}, \"colorscale\": [[0.0, \"#0d0887\"], [0.1111111111111111, \"#46039f\"], [0.2222222222222222, \"#7201a8\"], [0.3333333333333333, \"#9c179e\"], [0.4444444444444444, \"#bd3786\"], [0.5555555555555556, \"#d8576b\"], [0.6666666666666666, \"#ed7953\"], [0.7777777777777778, \"#fb9f3a\"], [0.8888888888888888, \"#fdca26\"], [1.0, \"#f0f921\"]], \"type\": \"contour\"}], \"contourcarpet\": [{\"colorbar\": {\"outlinewidth\": 0, \"ticks\": \"\"}, \"type\": \"contourcarpet\"}], \"heatmap\": [{\"colorbar\": {\"outlinewidth\": 0, \"ticks\": \"\"}, \"colorscale\": [[0.0, \"#0d0887\"], [0.1111111111111111, \"#46039f\"], [0.2222222222222222, \"#7201a8\"], [0.3333333333333333, \"#9c179e\"], [0.4444444444444444, \"#bd3786\"], [0.5555555555555556, \"#d8576b\"], [0.6666666666666666, \"#ed7953\"], [0.7777777777777778, \"#fb9f3a\"], [0.8888888888888888, \"#fdca26\"], [1.0, \"#f0f921\"]], \"type\": \"heatmap\"}], \"heatmapgl\": [{\"colorbar\": {\"outlinewidth\": 0, \"ticks\": \"\"}, \"colorscale\": [[0.0, \"#0d0887\"], [0.1111111111111111, \"#46039f\"], [0.2222222222222222, \"#7201a8\"], [0.3333333333333333, \"#9c179e\"], [0.4444444444444444, \"#bd3786\"], [0.5555555555555556, \"#d8576b\"], [0.6666666666666666, \"#ed7953\"], [0.7777777777777778, \"#fb9f3a\"], [0.8888888888888888, \"#fdca26\"], [1.0, \"#f0f921\"]], \"type\": \"heatmapgl\"}], \"histogram\": [{\"marker\": {\"colorbar\": {\"outlinewidth\": 0, \"ticks\": \"\"}}, \"type\": \"histogram\"}], \"histogram2d\": [{\"colorbar\": {\"outlinewidth\": 0, \"ticks\": \"\"}, \"colorscale\": [[0.0, \"#0d0887\"], [0.1111111111111111, \"#46039f\"], [0.2222222222222222, \"#7201a8\"], [0.3333333333333333, \"#9c179e\"], [0.4444444444444444, \"#bd3786\"], [0.5555555555555556, \"#d8576b\"], [0.6666666666666666, \"#ed7953\"], [0.7777777777777778, \"#fb9f3a\"], [0.8888888888888888, \"#fdca26\"], [1.0, \"#f0f921\"]], \"type\": \"histogram2d\"}], \"histogram2dcontour\": [{\"colorbar\": {\"outlinewidth\": 0, \"ticks\": \"\"}, \"colorscale\": [[0.0, \"#0d0887\"], [0.1111111111111111, \"#46039f\"], [0.2222222222222222, \"#7201a8\"], [0.3333333333333333, \"#9c179e\"], [0.4444444444444444, \"#bd3786\"], [0.5555555555555556, \"#d8576b\"], [0.6666666666666666, \"#ed7953\"], [0.7777777777777778, \"#fb9f3a\"], [0.8888888888888888, \"#fdca26\"], [1.0, \"#f0f921\"]], \"type\": \"histogram2dcontour\"}], \"mesh3d\": [{\"colorbar\": {\"outlinewidth\": 0, \"ticks\": \"\"}, \"type\": \"mesh3d\"}], \"parcoords\": [{\"line\": {\"colorbar\": {\"outlinewidth\": 0, \"ticks\": \"\"}}, \"type\": \"parcoords\"}], \"pie\": [{\"automargin\": true, \"type\": \"pie\"}], \"scatter\": [{\"marker\": {\"colorbar\": {\"outlinewidth\": 0, \"ticks\": \"\"}}, \"type\": \"scatter\"}], \"scatter3d\": [{\"line\": {\"colorbar\": {\"outlinewidth\": 0, \"ticks\": \"\"}}, \"marker\": {\"colorbar\": {\"outlinewidth\": 0, \"ticks\": \"\"}}, \"type\": \"scatter3d\"}], \"scattercarpet\": [{\"marker\": {\"colorbar\": {\"outlinewidth\": 0, \"ticks\": \"\"}}, \"type\": \"scattercarpet\"}], \"scattergeo\": [{\"marker\": {\"colorbar\": {\"outlinewidth\": 0, \"ticks\": \"\"}}, \"type\": \"scattergeo\"}], \"scattergl\": [{\"marker\": {\"colorbar\": {\"outlinewidth\": 0, \"ticks\": \"\"}}, \"type\": \"scattergl\"}], \"scattermapbox\": [{\"marker\": {\"colorbar\": {\"outlinewidth\": 0, \"ticks\": \"\"}}, \"type\": \"scattermapbox\"}], \"scatterpolar\": [{\"marker\": {\"colorbar\": {\"outlinewidth\": 0, \"ticks\": \"\"}}, \"type\": \"scatterpolar\"}], \"scatterpolargl\": [{\"marker\": {\"colorbar\": {\"outlinewidth\": 0, \"ticks\": \"\"}}, \"type\": \"scatterpolargl\"}], \"scatterternary\": [{\"marker\": {\"colorbar\": {\"outlinewidth\": 0, \"ticks\": \"\"}}, \"type\": \"scatterternary\"}], \"surface\": [{\"colorbar\": {\"outlinewidth\": 0, \"ticks\": \"\"}, \"colorscale\": [[0.0, \"#0d0887\"], [0.1111111111111111, \"#46039f\"], [0.2222222222222222, \"#7201a8\"], [0.3333333333333333, \"#9c179e\"], [0.4444444444444444, \"#bd3786\"], [0.5555555555555556, \"#d8576b\"], [0.6666666666666666, \"#ed7953\"], [0.7777777777777778, \"#fb9f3a\"], [0.8888888888888888, \"#fdca26\"], [1.0, \"#f0f921\"]], \"type\": \"surface\"}], \"table\": [{\"cells\": {\"fill\": {\"color\": \"#EBF0F8\"}, \"line\": {\"color\": \"white\"}}, \"header\": {\"fill\": {\"color\": \"#C8D4E3\"}, \"line\": {\"color\": \"white\"}}, \"type\": \"table\"}]}, \"layout\": {\"annotationdefaults\": {\"arrowcolor\": \"#2a3f5f\", \"arrowhead\": 0, \"arrowwidth\": 1}, \"coloraxis\": {\"colorbar\": {\"outlinewidth\": 0, \"ticks\": \"\"}}, \"colorscale\": {\"diverging\": [[0, \"#8e0152\"], [0.1, \"#c51b7d\"], [0.2, \"#de77ae\"], [0.3, \"#f1b6da\"], [0.4, \"#fde0ef\"], [0.5, \"#f7f7f7\"], [0.6, \"#e6f5d0\"], [0.7, \"#b8e186\"], [0.8, \"#7fbc41\"], [0.9, \"#4d9221\"], [1, \"#276419\"]], \"sequential\": [[0.0, \"#0d0887\"], [0.1111111111111111, \"#46039f\"], [0.2222222222222222, \"#7201a8\"], [0.3333333333333333, \"#9c179e\"], [0.4444444444444444, \"#bd3786\"], [0.5555555555555556, \"#d8576b\"], [0.6666666666666666, \"#ed7953\"], [0.7777777777777778, \"#fb9f3a\"], [0.8888888888888888, \"#fdca26\"], [1.0, \"#f0f921\"]], \"sequentialminus\": [[0.0, \"#0d0887\"], [0.1111111111111111, \"#46039f\"], [0.2222222222222222, \"#7201a8\"], [0.3333333333333333, \"#9c179e\"], [0.4444444444444444, \"#bd3786\"], [0.5555555555555556, \"#d8576b\"], [0.6666666666666666, \"#ed7953\"], [0.7777777777777778, \"#fb9f3a\"], [0.8888888888888888, \"#fdca26\"], [1.0, \"#f0f921\"]]}, \"colorway\": [\"#636efa\", \"#EF553B\", \"#00cc96\", \"#ab63fa\", \"#FFA15A\", \"#19d3f3\", \"#FF6692\", \"#B6E880\", \"#FF97FF\", \"#FECB52\"], \"font\": {\"color\": \"#2a3f5f\"}, \"geo\": {\"bgcolor\": \"white\", \"lakecolor\": \"white\", \"landcolor\": \"#E5ECF6\", \"showlakes\": true, \"showland\": true, \"subunitcolor\": \"white\"}, \"hoverlabel\": {\"align\": \"left\"}, \"hovermode\": \"closest\", \"mapbox\": {\"style\": \"light\"}, \"paper_bgcolor\": \"white\", \"plot_bgcolor\": \"#E5ECF6\", \"polar\": {\"angularaxis\": {\"gridcolor\": \"white\", \"linecolor\": \"white\", \"ticks\": \"\"}, \"bgcolor\": \"#E5ECF6\", \"radialaxis\": {\"gridcolor\": \"white\", \"linecolor\": \"white\", \"ticks\": \"\"}}, \"scene\": {\"xaxis\": {\"backgroundcolor\": \"#E5ECF6\", \"gridcolor\": \"white\", \"gridwidth\": 2, \"linecolor\": \"white\", \"showbackground\": true, \"ticks\": \"\", \"zerolinecolor\": \"white\"}, \"yaxis\": {\"backgroundcolor\": \"#E5ECF6\", \"gridcolor\": \"white\", \"gridwidth\": 2, \"linecolor\": \"white\", \"showbackground\": true, \"ticks\": \"\", \"zerolinecolor\": \"white\"}, \"zaxis\": {\"backgroundcolor\": \"#E5ECF6\", \"gridcolor\": \"white\", \"gridwidth\": 2, \"linecolor\": \"white\", \"showbackground\": true, \"ticks\": \"\", \"zerolinecolor\": \"white\"}}, \"shapedefaults\": {\"line\": {\"color\": \"#2a3f5f\"}}, \"ternary\": {\"aaxis\": {\"gridcolor\": \"white\", \"linecolor\": \"white\", \"ticks\": \"\"}, \"baxis\": {\"gridcolor\": \"white\", \"linecolor\": \"white\", \"ticks\": \"\"}, \"bgcolor\": \"#E5ECF6\", \"caxis\": {\"gridcolor\": \"white\", \"linecolor\": \"white\", \"ticks\": \"\"}}, \"title\": {\"x\": 0.05}, \"xaxis\": {\"automargin\": true, \"gridcolor\": \"white\", \"linecolor\": \"white\", \"ticks\": \"\", \"title\": {\"standoff\": 15}, \"zerolinecolor\": \"white\", \"zerolinewidth\": 2}, \"yaxis\": {\"automargin\": true, \"gridcolor\": \"white\", \"linecolor\": \"white\", \"ticks\": \"\", \"title\": {\"standoff\": 15}, \"zerolinecolor\": \"white\", \"zerolinewidth\": 2}}}, \"width\": 800},                        {\"responsive\": true}                    ).then(function(){\n",
       "                            \n",
       "var gd = document.getElementById('e3677018-a4f6-4ea7-8672-bd8e2cbd1471');\n",
       "var x = new MutationObserver(function (mutations, observer) {{\n",
       "        var display = window.getComputedStyle(gd).display;\n",
       "        if (!display || display === 'none') {{\n",
       "            console.log([gd, 'removed!']);\n",
       "            Plotly.purge(gd);\n",
       "            observer.disconnect();\n",
       "        }}\n",
       "}});\n",
       "\n",
       "// Listen for the removal of the full notebook cells\n",
       "var notebookContainer = gd.closest('#notebook-container');\n",
       "if (notebookContainer) {{\n",
       "    x.observe(notebookContainer, {childList: true});\n",
       "}}\n",
       "\n",
       "// Listen for the clearing of the current output cell\n",
       "var outputEl = gd.closest('.output');\n",
       "if (outputEl) {{\n",
       "    x.observe(outputEl, {childList: true});\n",
       "}}\n",
       "\n",
       "                        })                };                });            </script>        </div>"
      ]
     },
     "metadata": {},
     "output_type": "display_data"
    }
   ],
   "source": [
    "# Create a 3D-Scatter with the PCA data and the clusters\n",
    "fig = px.scatter_3d(\n",
    "    clustered_df,\n",
    "    x=\"PC 1\",\n",
    "    y=\"PC 2\",\n",
    "    z=\"PC 3\",\n",
    "    color=\"class\",\n",
    "    symbol=\"class\",\n",
    "    width=800,\n",
    ")\n",
    "fig.update_layout(legend=dict(x=0, y=1))\n",
    "fig.show()"
   ]
  },
  {
   "cell_type": "markdown",
   "metadata": {},
   "source": [
    "#### Table of Tradable Cryptocurrencies"
   ]
  },
  {
   "cell_type": "code",
   "execution_count": 134,
   "metadata": {},
   "outputs": [],
   "source": [
    "# Table with tradable cryptos\n",
    "trade_crypto = (len(clustered_df))"
   ]
  },
  {
   "cell_type": "code",
   "execution_count": 135,
   "metadata": {},
   "outputs": [
    {
     "name": "stdout",
     "output_type": "stream",
     "text": [
      "The total number of tradable cryptocurrencies is 533\n"
     ]
    }
   ],
   "source": [
    "# Print the total number of tradable cryptocurrencies\n",
    "print(f'The total number of tradable cryptocurrencies is {trade_crypto}')"
   ]
  },
  {
   "cell_type": "markdown",
   "metadata": {},
   "source": [
    "#### Scatter Plot with Tradable Cryptocurrencies"
   ]
  },
  {
   "cell_type": "code",
   "execution_count": 165,
   "metadata": {},
   "outputs": [],
   "source": [
    "# Scale data to create the scatter plot\n"
   ]
  },
  {
   "cell_type": "code",
   "execution_count": 164,
   "metadata": {},
   "outputs": [
    {
     "data": {},
     "metadata": {},
     "output_type": "display_data"
    },
    {
     "data": {
      "application/vnd.holoviews_exec.v0+json": "",
      "text/html": [
       "<div id='4379'>\n",
       "\n",
       "\n",
       "\n",
       "\n",
       "\n",
       "  <div class=\"bk-root\" id=\"77611f6e-8496-439b-a110-3abff64b4565\" data-root-id=\"4379\"></div>\n",
       "</div>\n",
       "<script type=\"application/javascript\">(function(root) {\n",
       "  function embed_document(root) {\n",
       "  var docs_json = {\"82d93b5d-67cd-4634-a8bd-702cc2ca89c7\":{\"roots\":{\"references\":[{\"attributes\":{\"margin\":[5,5,5,5],\"name\":\"HSpacer09432\",\"sizing_mode\":\"stretch_width\"},\"id\":\"4380\",\"type\":\"Spacer\"},{\"attributes\":{\"data_source\":{\"id\":\"4420\"},\"glyph\":{\"id\":\"4423\"},\"hover_glyph\":null,\"muted_glyph\":{\"id\":\"4425\"},\"nonselection_glyph\":{\"id\":\"4424\"},\"selection_glyph\":null,\"view\":{\"id\":\"4427\"}},\"id\":\"4426\",\"type\":\"GlyphRenderer\"},{\"attributes\":{\"source\":{\"id\":\"4438\"}},\"id\":\"4445\",\"type\":\"CDSView\"},{\"attributes\":{\"overlay\":{\"id\":\"4408\"}},\"id\":\"4406\",\"type\":\"BoxZoomTool\"},{\"attributes\":{\"data\":{\"TotalCoinSupply\":[\"840000000\"],\"TotalCoinsMined\":{\"__ndarray__\":\"mpkZfngGw0E=\",\"dtype\":\"float64\",\"order\":\"little\",\"shape\":[1]},\"class\":{\"__ndarray__\":\"AQAAAA==\",\"dtype\":\"int32\",\"order\":\"little\",\"shape\":[1]}},\"selected\":{\"id\":\"4439\"},\"selection_policy\":{\"id\":\"4454\"}},\"id\":\"4438\",\"type\":\"ColumnDataSource\"},{\"attributes\":{\"source\":{\"id\":\"4478\"}},\"id\":\"4485\",\"type\":\"CDSView\"},{\"attributes\":{\"fill_color\":{\"value\":\"#d62628\"},\"line_color\":{\"value\":\"#d62628\"},\"size\":{\"units\":\"screen\",\"value\":5.477225575051661},\"x\":{\"field\":\"TotalCoinsMined\"},\"y\":{\"field\":\"TotalCoinSupply\"}},\"id\":\"4481\",\"type\":\"Scatter\"},{\"attributes\":{\"fill_alpha\":{\"value\":0.1},\"fill_color\":{\"value\":\"#d62628\"},\"line_alpha\":{\"value\":0.1},\"line_color\":{\"value\":\"#d62628\"},\"size\":{\"units\":\"screen\",\"value\":5.477225575051661},\"x\":{\"field\":\"TotalCoinsMined\"},\"y\":{\"field\":\"TotalCoinSupply\"}},\"id\":\"4482\",\"type\":\"Scatter\"},{\"attributes\":{},\"id\":\"4417\",\"type\":\"BasicTickFormatter\"},{\"attributes\":{},\"id\":\"4498\",\"type\":\"UnionRenderers\"},{\"attributes\":{\"axis_label\":\"TotalCoinsMined\",\"bounds\":\"auto\",\"formatter\":{\"id\":\"4417\"},\"major_label_orientation\":\"horizontal\",\"ticker\":{\"id\":\"4397\"}},\"id\":\"4396\",\"type\":\"LinearAxis\"},{\"attributes\":{\"axis\":{\"id\":\"4400\"},\"dimension\":1,\"grid_line_color\":null,\"ticker\":null},\"id\":\"4402\",\"type\":\"Grid\"},{\"attributes\":{\"click_policy\":\"mute\",\"items\":[{\"id\":\"4437\"},{\"id\":\"4456\"},{\"id\":\"4477\"},{\"id\":\"4500\"}],\"location\":[0,0],\"title\":\"class\"},\"id\":\"4436\",\"type\":\"Legend\"},{\"attributes\":{},\"id\":\"4394\",\"type\":\"CategoricalScale\"},{\"attributes\":{\"fill_alpha\":{\"value\":0.2},\"fill_color\":{\"value\":\"#d62628\"},\"line_alpha\":{\"value\":0.2},\"line_color\":{\"value\":\"#d62628\"},\"size\":{\"units\":\"screen\",\"value\":5.477225575051661},\"x\":{\"field\":\"TotalCoinsMined\"},\"y\":{\"field\":\"TotalCoinSupply\"}},\"id\":\"4483\",\"type\":\"Scatter\"},{\"attributes\":{\"axis\":{\"id\":\"4396\"},\"grid_line_color\":null,\"ticker\":null},\"id\":\"4399\",\"type\":\"Grid\"},{\"attributes\":{},\"id\":\"4392\",\"type\":\"LinearScale\"},{\"attributes\":{\"text\":\"\",\"text_color\":{\"value\":\"black\"},\"text_font_size\":{\"value\":\"12pt\"}},\"id\":\"4388\",\"type\":\"Title\"},{\"attributes\":{\"end\":1032670727609.2,\"reset_end\":1032670727609.2,\"reset_start\":-48599705157.2,\"start\":-48599705157.2,\"tags\":[[[\"TotalCoinsMined\",\"TotalCoinsMined\",null]]]},\"id\":\"4381\",\"type\":\"Range1d\"},{\"attributes\":{\"fill_color\":{\"value\":\"#ff7e0e\"},\"line_color\":{\"value\":\"#ff7e0e\"},\"size\":{\"units\":\"screen\",\"value\":5.477225575051661},\"x\":{\"field\":\"TotalCoinsMined\"},\"y\":{\"field\":\"TotalCoinSupply\"}},\"id\":\"4441\",\"type\":\"Scatter\"},{\"attributes\":{\"label\":{\"value\":\"3\"},\"renderers\":[{\"id\":\"4484\"}]},\"id\":\"4500\",\"type\":\"LegendItem\"},{\"attributes\":{\"fill_color\":{\"value\":\"#1f77b3\"},\"line_color\":{\"value\":\"#1f77b3\"},\"size\":{\"units\":\"screen\",\"value\":5.477225575051661},\"x\":{\"field\":\"TotalCoinsMined\"},\"y\":{\"field\":\"TotalCoinSupply\"}},\"id\":\"4423\",\"type\":\"Scatter\"},{\"attributes\":{\"fill_alpha\":{\"value\":0.2},\"fill_color\":{\"value\":\"#2ba02b\"},\"line_alpha\":{\"value\":0.2},\"line_color\":{\"value\":\"#2ba02b\"},\"size\":{\"units\":\"screen\",\"value\":5.477225575051661},\"x\":{\"field\":\"TotalCoinsMined\"},\"y\":{\"field\":\"TotalCoinSupply\"}},\"id\":\"4462\",\"type\":\"Scatter\"},{\"attributes\":{},\"id\":\"4403\",\"type\":\"SaveTool\"},{\"attributes\":{\"margin\":[5,5,5,5],\"name\":\"HSpacer09433\",\"sizing_mode\":\"stretch_width\"},\"id\":\"4627\",\"type\":\"Spacer\"},{\"attributes\":{\"data_source\":{\"id\":\"4478\"},\"glyph\":{\"id\":\"4481\"},\"hover_glyph\":null,\"muted_glyph\":{\"id\":\"4483\"},\"nonselection_glyph\":{\"id\":\"4482\"},\"selection_glyph\":null,\"view\":{\"id\":\"4485\"}},\"id\":\"4484\",\"type\":\"GlyphRenderer\"},{\"attributes\":{\"source\":{\"id\":\"4457\"}},\"id\":\"4464\",\"type\":\"CDSView\"},{\"attributes\":{\"data\":{\"TotalCoinSupply\":[\"9.9E+11\"],\"TotalCoinsMined\":{\"__ndarray__\":\"AABoKv7PbEI=\",\"dtype\":\"float64\",\"order\":\"little\",\"shape\":[1]},\"class\":{\"__ndarray__\":\"AgAAAA==\",\"dtype\":\"int32\",\"order\":\"little\",\"shape\":[1]}},\"selected\":{\"id\":\"4458\"},\"selection_policy\":{\"id\":\"4475\"}},\"id\":\"4457\",\"type\":\"ColumnDataSource\"},{\"attributes\":{\"fill_alpha\":{\"value\":0.1},\"fill_color\":{\"value\":\"#ff7e0e\"},\"line_alpha\":{\"value\":0.1},\"line_color\":{\"value\":\"#ff7e0e\"},\"size\":{\"units\":\"screen\",\"value\":5.477225575051661},\"x\":{\"field\":\"TotalCoinsMined\"},\"y\":{\"field\":\"TotalCoinSupply\"}},\"id\":\"4442\",\"type\":\"Scatter\"},{\"attributes\":{\"callback\":null,\"renderers\":[{\"id\":\"4426\"},{\"id\":\"4444\"},{\"id\":\"4463\"},{\"id\":\"4484\"}],\"tags\":[\"hv_created\"],\"tooltips\":[[\"class\",\"@{class}\"],[\"TotalCoinsMined\",\"@{TotalCoinsMined}\"],[\"TotalCoinSupply\",\"@{TotalCoinSupply}\"]]},\"id\":\"4383\",\"type\":\"HoverTool\"},{\"attributes\":{},\"id\":\"4439\",\"type\":\"Selection\"},{\"attributes\":{\"factors\":[\"42\",\"532000000\",\"3.14159E+11\",\"21000000\",\"0\",\"84000000\",\"22000000\",\"210000000\",\"3600570502\",\"21000000000\",\"12500000\",\"350000000\",\"20000000\",\"64000000\",\"16768584\",\"2000000000\",\"3.84E+11\",\"169795588\",\"250000000\",\"100000000\",\"247000000\",\"48166000\",\"500000\",\"1000000\",\"13140000\",\"18000000\",\"40000000000\",\"4380000\",\"16555000000\",\"13500000000\",\"299792458\",\"32000000\",\"11235813\",\"336000000\",\"1420609614\",\"70000000\",\"72245700\",\"120000000\",\"90600000000\",\"265420800\",\"1350000\",\"42000000\",\"200000000\",\"10000000\",\"2419200000\",\"16180000\",\"15000000000\",\"337000000\",\"3770000\",\"420000000\",\"98000000\",\"51200000\",\"1000\",\"888000000\",\"47011968\",\"2300000000\",\"80000000\",\"250000\",\"1600000000\",\"23000000\",\"5500000\",\"45000000\",\"1000000000\",\"1.84467E+11\",\"10000000000\",\"2158812800\",\"500000000\",\"105120000\",\"68000000\",\"1680000000\",\"166386000\",\"12000000\",\"2628000\",\"160000000\",\"3371337\",\"1840000000\",\"619478\",\"92000000000\",\"78000000\",\"33000000\",\"65789100\",\"53760000\",\"5060000\",\"210240000\",\"16906397\",\"50000000\",\"26298000\",\"16000000\",\"81962100\",\"26550000000\",\"10500000\",\"21626280000\",\"221052632\",\"30000000\",\"168351300\",\"24000000\",\"384000000\",\"99000000000\",\"40000000\",\"2147483647\",\"25000000\",\"75000000\",\"222725000\",\"525000000\",\"90000000\",\"139000000\",\"616448\",\"33500000\",\"44333333\",\"657000000\",\"9736000\",\"3000000\",\"1200000000\",\"10638298\",\"3100000000\",\"20000000000\",\"74000000\",\"1500000000\",\"21400000\",\"39999898\",\"2500124\",\"301000000\",\"7506000000\",\"26205539\",\"125000000\",\"850000000\",\"3853326.777\",\"38540000\",\"228000000\",\"60000000\",\"76500000\",\"28000000\",\"650659833\",\"5000000\",\"144000000\",\"32514916898\",\"13000000\",\"3315789\",\"15000000\",\"78835200\",\"2714286\",\"9999999\",\"9354000\",\"1E+11\",\"21933333\",\"185000000\",\"55000000\",\"110000000\",\"3360000\",\"14524851.48\",\"17000000\",\"34426423\",\"2232901\",\"36900000\",\"4000000000\",\"110290030\",\"48252000\",\"400000000\",\"21212121\",\"28600000\",\"75000000000\",\"35520400\",\"2500000000\",\"105000000\",\"90000000000\",\"200084200\",\"72000000\",\"50000000000\",\"340282367\",\"19276800\",\"18900000\",\"54000000\",\"18898187.62\",\"2E+11\",\"5000000000\",\"137500000\",\"1100000000\",\"9507271\",\"17405891.2\",\"10500000000\",\"61599965\",\"4200000\",\"88888888\",\"91388946\",\"45000000000\",\"27000000\",\"1800000000\",\"15733333\",\"25000000000\",\"156306732.7\",\"14788275.99\",\"9000000000\",\"280000000\",\"31800000\",\"30000000000\",\"660000000\",\"85000000000\",\"27716121\",\"550000000\",\"999481516\",\"150000000\",\"4999999999\",\"19800000\",\"900000000\",\"4000000\",\"20166000\",\"1618033\",\"1E+12\",\"16600000\",\"232000000\",\"800000000\",\"5200000000\",\"18406979840\",\"19340594\",\"124000000\",\"6500000000\",\"300000000\",\"88000000\",\"18400000\",\"5121951220\",\"26280000\",\"26000000\",\"600000518\",\"1.84E+11\",\"10200000000\",\"44000000\",\"168000000\",\"650000000\",\"100262205\",\"18081806\",\"22075700\",\"82546564\",\"5151000\",\"16880000000\",\"52500000\",\"22105263\",\"1750000000\",\"88188888\",\"1.8447E+11\",\"260000000\",\"2100000000\",\"366000000\",\"18000000000\",\"7600000000\",\"70000000000\",\"8080000000\",\"105120001.4\",\"25228800\",\"262800000\",\"19035999\",\"30886000\",\"13370000\",\"74800000000\",\"19700000\",\"2100000\",\"35000000000\",\"98100000000\",\"7000000000\",\"54256119\",\"190000000\",\"208000000\",\"9000000\",\"182000000\",\"16504333\",\"159918400\",\"10008835635\",\"60168145\",\"2800000\",\"120000\",\"24487944\",\"8634140\",\"1400222610\",\"840000000\",\"9.9E+11\",\"86712634466\",\"252460800\"],\"tags\":[[[\"TotalCoinSupply\",\"TotalCoinSupply\",null]]]},\"id\":\"4382\",\"type\":\"FactorRange\"},{\"attributes\":{},\"id\":\"4405\",\"type\":\"WheelZoomTool\"},{\"attributes\":{\"children\":[{\"id\":\"4380\"},{\"id\":\"4387\"},{\"id\":\"4627\"}],\"margin\":[0,0,0,0],\"name\":\"Row09428\",\"tags\":[\"embedded\"]},\"id\":\"4379\",\"type\":\"Row\"},{\"attributes\":{\"active_drag\":\"auto\",\"active_inspect\":\"auto\",\"active_multi\":null,\"active_scroll\":\"auto\",\"active_tap\":\"auto\",\"tools\":[{\"id\":\"4383\"},{\"id\":\"4403\"},{\"id\":\"4404\"},{\"id\":\"4405\"},{\"id\":\"4406\"},{\"id\":\"4407\"}]},\"id\":\"4409\",\"type\":\"Toolbar\"},{\"attributes\":{\"fill_alpha\":{\"value\":0.2},\"fill_color\":{\"value\":\"#1f77b3\"},\"line_alpha\":{\"value\":0.2},\"line_color\":{\"value\":\"#1f77b3\"},\"size\":{\"units\":\"screen\",\"value\":5.477225575051661},\"x\":{\"field\":\"TotalCoinsMined\"},\"y\":{\"field\":\"TotalCoinSupply\"}},\"id\":\"4425\",\"type\":\"Scatter\"},{\"attributes\":{},\"id\":\"4479\",\"type\":\"Selection\"},{\"attributes\":{\"data_source\":{\"id\":\"4438\"},\"glyph\":{\"id\":\"4441\"},\"hover_glyph\":null,\"muted_glyph\":{\"id\":\"4443\"},\"nonselection_glyph\":{\"id\":\"4442\"},\"selection_glyph\":null,\"view\":{\"id\":\"4445\"}},\"id\":\"4444\",\"type\":\"GlyphRenderer\"},{\"attributes\":{},\"id\":\"4397\",\"type\":\"BasicTicker\"},{\"attributes\":{\"bottom_units\":\"screen\",\"fill_alpha\":0.5,\"fill_color\":\"lightgrey\",\"left_units\":\"screen\",\"level\":\"overlay\",\"line_alpha\":1.0,\"line_color\":\"black\",\"line_dash\":[4,4],\"line_width\":2,\"right_units\":\"screen\",\"top_units\":\"screen\"},\"id\":\"4408\",\"type\":\"BoxAnnotation\"},{\"attributes\":{\"data\":{\"TotalCoinSupply\":[\"42\",\"532000000\",\"3.14159E+11\",\"21000000\",\"0\",\"84000000\",\"22000000\",\"0\",\"210000000\",\"21000000\",\"3600570502\",\"21000000000\",\"22000000\",\"12500000\",\"21000000\",\"350000000\",\"20000000\",\"64000000\",\"16768584\",\"0\",\"2000000000\",\"3.84E+11\",\"169795588\",\"250000000\",\"100000000\",\"0\",\"247000000\",\"84000000\",\"48166000\",\"500000\",\"21000000\",\"1000000\",\"13140000\",\"18000000\",\"40000000000\",\"4380000\",\"16555000000\",\"21000000000\",\"13500000000\",\"21000000\",\"299792458\",\"32000000\",\"0\",\"0\",\"11235813\",\"336000000\",\"1420609614\",\"70000000\",\"72245700\",\"120000000\",\"0\",\"90600000000\",\"22000000\",\"21000000\",\"265420800\",\"20000000\",\"1350000\",\"100000000\",\"42000000\",\"200000000\",\"0\",\"10000000\",\"2419200000\",\"16180000\",\"0\",\"15000000000\",\"21000000\",\"337000000\",\"0\",\"3770000\",\"420000000\",\"98000000\",\"0\",\"21000000\",\"250000000\",\"51200000\",\"0\",\"1000\",\"888000000\",\"100000000\",\"47011968\",\"2300000000\",\"10000000\",\"42000000\",\"80000000\",\"250000\",\"0\",\"1600000000\",\"100000000\",\"23000000\",\"0\",\"84000000\",\"265420800\",\"5500000\",\"0\",\"45000000\",\"0\",\"1000000000\",\"1.84467E+11\",\"10000000000\",\"2158812800\",\"500000000\",\"105120000\",\"68000000\",\"0\",\"1680000000\",\"0\",\"166386000\",\"12000000\",\"2628000\",\"500000000\",\"160000000\",\"0\",\"10000000\",\"1000000000\",\"1000000000\",\"20000000\",\"0\",\"0\",\"3371337\",\"20000000\",\"10000000000\",\"1840000000\",\"619478\",\"21000000\",\"92000000000\",\"0\",\"78000000\",\"33000000\",\"65789100\",\"53760000\",\"5060000\",\"21000000\",\"0\",\"210240000\",\"250000000\",\"100000000\",\"16906397\",\"50000000\",\"0\",\"1000000000\",\"26298000\",\"16000000\",\"21000000\",\"21000000\",\"210000000\",\"81962100\",\"22000000\",\"26550000000\",\"84000000\",\"10500000\",\"21626280000\",\"0\",\"42000000\",\"221052632\",\"84000000\",\"30000000\",\"168351300\",\"24000000\",\"384000000\",\"99000000000\",\"40000000\",\"2147483647\",\"20000000\",\"20000000\",\"25000000\",\"75000000\",\"222725000\",\"525000000\",\"90000000\",\"139000000\",\"616448\",\"33500000\",\"2000000000\",\"44333333\",\"100000000\",\"200000000\",\"25000000\",\"657000000\",\"200000000\",\"50000000\",\"90000000\",\"10000000\",\"21000000\",\"9736000\",\"3000000\",\"21000000\",\"1200000000\",\"0\",\"200000000\",\"0\",\"10638298\",\"3100000000\",\"30000000\",\"20000000000\",\"74000000\",\"0\",\"1500000000\",\"21400000\",\"39999898\",\"2500124\",\"100000000\",\"301000000\",\"7506000000\",\"26205539\",\"21000000\",\"125000000\",\"30000000\",\"10000000000\",\"500000000\",\"850000000\",\"3853326.777\",\"50000000\",\"38540000\",\"42000000\",\"228000000\",\"20000000\",\"60000000\",\"20000000\",\"33000000\",\"76500000\",\"28000000\",\"650659833\",\"5000000\",\"21000000\",\"144000000\",\"32514916898\",\"13000000\",\"3315789\",\"15000000\",\"78835200\",\"2714286\",\"25000000\",\"9999999\",\"500000000\",\"21000000\",\"9354000\",\"20000000\",\"1E+11\",\"21933333\",\"185000000\",\"55000000\",\"110000000\",\"3360000\",\"14524851.48\",\"1000000000\",\"17000000\",\"1000000000\",\"100000000\",\"21000000\",\"34426423\",\"2232901\",\"100000000\",\"36900000\",\"110000000\",\"4000000000\",\"110290030\",\"100000000\",\"48252000\",\"400000000\",\"500000000\",\"21212121\",\"28600000\",\"1000000000\",\"75000000000\",\"40000000\",\"35520400\",\"2000000000\",\"2500000000\",\"30000000\",\"105000000\",\"90000000000\",\"200084200\",\"72000000\",\"100000000\",\"105000000\",\"50000000000\",\"0\",\"340282367\",\"30000000\",\"2000000000\",\"10000000\",\"100000000\",\"120000000\",\"100000000\",\"19276800\",\"30000000\",\"75000000\",\"60000000\",\"18900000\",\"50000000000\",\"54000000\",\"18898187.62\",\"21000000\",\"2E+11\",\"5000000000\",\"137500000\",\"1100000000\",\"100000000\",\"21000000\",\"9507271\",\"17405891.2\",\"10500000000\",\"61599965\",\"0\",\"20000000\",\"84000000\",\"100000000\",\"100000000\",\"48252000\",\"4200000\",\"88888888\",\"91388946\",\"45000000000\",\"27000000\",\"21000000000\",\"400000000\",\"1800000000\",\"15733333\",\"27000000\",\"24000000\",\"21000000\",\"25000000000\",\"100000000\",\"1200000000\",\"60000000\",\"156306732.7\",\"21000000\",\"200000000\",\"100000000\",\"21000000\",\"14788275.99\",\"9000000000\",\"350000000\",\"45000000\",\"280000000\",\"31800000\",\"144000000\",\"500000000\",\"30000000000\",\"210000000\",\"660000000\",\"210000000\",\"85000000000\",\"12500000\",\"10000000000\",\"27716121\",\"20000000\",\"550000000\",\"999481516\",\"50000000000\",\"150000000\",\"4999999999\",\"50000000\",\"90000000000\",\"19800000\",\"21000000\",\"120000000\",\"500000000\",\"64000000\",\"900000000\",\"4000000\",\"21000000\",\"23000000\",\"20166000\",\"23000000\",\"25000000\",\"1618033\",\"30000000\",\"1E+12\",\"16600000\",\"232000000\",\"336000000\",\"10000000000\",\"100000000\",\"1100000000\",\"800000000\",\"5200000000\",\"40000000\",\"18406979840\",\"500000000\",\"19340594\",\"25000000\",\"60000000\",\"124000000\",\"1000000000\",\"6500000000\",\"1000000000\",\"21000000\",\"25000000\",\"50000000\",\"3000000\",\"5000000\",\"70000000\",\"500000000\",\"300000000\",\"21000000\",\"88000000\",\"30000000\",\"100000000\",\"100000000\",\"200000000\",\"80000000\",\"18400000\",\"45000000\",\"5121951220\",\"21000000\",\"26280000\",\"21000000\",\"18000000\",\"26000000\",\"10500000\",\"600000518\",\"150000000\",\"1.84E+11\",\"10200000000\",\"44000000\",\"168000000\",\"100000000\",\"1000000000\",\"84000000\",\"90000000\",\"92000000000\",\"650000000\",\"100262205\",\"18081806\",\"22075700\",\"21000000\",\"21000000\",\"82546564\",\"21000000\",\"5151000\",\"16880000000\",\"52500000\",\"100000000\",\"22105263\",\"1000000000\",\"1750000000\",\"88188888\",\"210000000\",\"1.8447E+11\",\"55000000\",\"50000000\",\"260000000\",\"210000000\",\"2100000000\",\"366000000\",\"100000000\",\"25000000\",\"18000000000\",\"1000000000\",\"100000000\",\"1000000000\",\"7600000000\",\"50000000\",\"84000000\",\"21000000\",\"70000000000\",\"0\",\"8080000000\",\"54000000\",\"105120001.4\",\"25228800\",\"105000000\",\"21000000\",\"120000000\",\"21000000\",\"262800000\",\"19035999\",\"30886000\",\"13370000\",\"74800000000\",\"100000000\",\"19700000\",\"84000000\",\"500000000\",\"5000000000\",\"420000000\",\"64000000\",\"2100000\",\"168000000\",\"30000000\",\"1000000000\",\"35000000000\",\"98100000000\",\"0\",\"4000000000\",\"200000000\",\"7000000000\",\"54256119\",\"21000000\",\"0\",\"500000000\",\"1000000000\",\"10500000000\",\"190000000\",\"1000000000\",\"42000000\",\"15000000\",\"50000000000\",\"400000000\",\"105000000\",\"208000000\",\"160000000\",\"9000000\",\"5000000\",\"182000000\",\"16504333\",\"105000000\",\"159918400\",\"10008835635\",\"300000000\",\"60168145\",\"5000000000\",\"2800000\",\"120000\",\"2100000000\",\"0\",\"24487944\",\"0\",\"1000000000\",\"100000000\",\"8634140\",\"1000000000\",\"2000000000\",\"250000000\",\"1400222610\",\"21000000\",\"1000000\"],\"TotalCoinsMined\":{\"__ndarray__\":\"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\",\"dtype\":\"float64\",\"order\":\"little\",\"shape\":[529]},\"class\":{\"__ndarray__\":\"AAAAAAAAAAAAAAAAAAAAAAAAAAAAAAAAAAAAAAAAAAAAAAAAAAAAAAAAAAAAAAAAAAAAAAAAAAAAAAAAAAAAAAAAAAAAAAAAAAAAAAAAAAAAAAAAAAAAAAAAAAAAAAAAAAAAAAAAAAAAAAAAAAAAAAAAAAAAAAAAAAAAAAAAAAAAAAAAAAAAAAAAAAAAAAAAAAAAAAAAAAAAAAAAAAAAAAAAAAAAAAAAAAAAAAAAAAAAAAAAAAAAAAAAAAAAAAAAAAAAAAAAAAAAAAAAAAAAAAAAAAAAAAAAAAAAAAAAAAAAAAAAAAAAAAAAAAAAAAAAAAAAAAAAAAAAAAAAAAAAAAAAAAAAAAAAAAAAAAAAAAAAAAAAAAAAAAAAAAAAAAAAAAAAAAAAAAAAAAAAAAAAAAAAAAAAAAAAAAAAAAAAAAAAAAAAAAAAAAAAAAAAAAAAAAAAAAAAAAAAAAAAAAAAAAAAAAAAAAAAAAAAAAAAAAAAAAAAAAAAAAAAAAAAAAAAAAAAAAAAAAAAAAAAAAAAAAAAAAAAAAAAAAAAAAAAAAAAAAAAAAAAAAAAAAAAAAAAAAAAAAAAAAAAAAAAAAAAAAAAAAAAAAAAAAAAAAAAAAAAAAAAAAAAAAAAAAAAAAAAAAAAAAAAAAAAAAAAAAAAAAAAAAAAAAAAAAAAAAAAAAAAAAAAAAAAAAAAAAAAAAAAAAAAAAAAAAAAAAAAAAAAAAAAAAAAAAAAAAAAAAAAAAAAAAAAAAAAAAAAAAAAAAAAAAAAAAAAAAAAAAAAAAAAAAAAAAAAAAAAAAAAAAAAAAAAAAAAAAAAAAAAAAAAAAAAAAAAAAAAAAAAAAAAAAAAAAAAAAAAAAAAAAAAAAAAAAAAAAAAAAAAAAAAAAAAAAAAAAAAAAAAAAAAAAAAAAAAAAAAAAAAAAAAAAAAAAAAAAAAAAAAAAAAAAAAAAAAAAAAAAAAAAAAAAAAAAAAAAAAAAAAAAAAAAAAAAAAAAAAAAAAAAAAAAAAAAAAAAAAAAAAAAAAAAAAAAAAAAAAAAAAAAAAAAAAAAAAAAAAAAAAAAAAAAAAAAAAAAAAAAAAAAAAAAAAAAAAAAAAAAAAAAAAAAAAAAAAAAAAAAAAAAAAAAAAAAAAAAAAAAAAAAAAAAAAAAAAAAAAAAAAAAAAAAAAAAAAAAAAAAAAAAAAAAAAAAAAAAAAAAAAAAAAAAAAAAAAAAAAAAAAAAAAAAAAAAAAAAAAAAAAAAAAAAAAAAAAAAAAAAAAAAAAAAAAAAAAAAAAAAAAAAAAAAAAAAAAAAAAAAAAAAAAAAAAAAAAAAAAAAAAAAAAAAAAAAAAAAAAAAAAAAAAAAAAAAAAAAAAAAAAAAAAAAAAAAAAAAAAAAAAAAAAAAAAAAAAAAAAAAAAAAAAAAAAAAAAAAAAAAAAAAAAAAAAAAAAAAAAAAAAAAAAAAAAAAAAAAAAAAAAAAAAAAAAAAAAAAAAAAAAAAAAAAAAAAAAAAAAAAAAAAAAAAAAAAAAAAAAAAAAAAAAAAAAAAAAAAAAAAAAAAAAAAAAAAAAAAAAAAAAAAAAAAAAAAAAAAAAAAAAAAAAAAAAAAAAAAAAAAAAAAAAAAAAAAAAAAAAAAAAAAAAAAAAAAAAAAAAAAAAAAAAAAAAAAAAAAAAAAAAAAAAAAAAAAAAAAAAAAAAAAAAAAAAAAAAAAAAAAAAAAAAAAAAAAAAAAAAAAAAAAAAAAAAAAAAAAAAAAAAAAAAAAAAAAAAAAAAAAAAAAAAAAAAAAAAAAAAAAAAAAAAAAAAAAAAAAAAAAAAAAAAAAAAAAAAAAAAAAAAAAAAAAAAAAAAAAAAAAAAAAAAAAAAAAAAAAAAAAAAAAAAAAAAAAAAAAAAAAAAAAAAAAAAAAAAAAAAAAAAAAAAAAAAAAAAAAAAAAAAAAAAAAAAAAAAAAAAAAAAAAAAAAAAAAAAAAAAAAAAAAAAAAAAAAAAAAAAAAAAAAAAAAAAAAAAAAAAAAAAAAAAAAAAAAAAAAAAAAAAAAAAAAAAAAAAAAAAAAAAAAAAAAAAAAAAAAAAAAAAAAAAAAAAAAAAAAAAAAAAAAAAAAAAAAAAAAAAAAAAAAAAAAAAAAAAAAAAAAAAAAAAAAAAAAAAAAAAAAAAAAAAAAAAAAAAAAAAAAAAAAAAAAAAAAAAAAAAAAAAAAAAAAAAAAAAAAAAAAAAAAAAAAAAAAAAAAAAAAAAAAAAAAAAAAAAAAAAAAAAAAAAAAAAAAAAAAAAAAAAAAAAAAAAAAAAAAAAAAAAAAAAAAAAAAAAAAAAAAAAAAAAAAAAAAAAAAAAAAAAAAAAAAAAAAAAAAAAAAAAAAAAAAAAAAAAAAAAAAAAAAAAAAAAAAAAAAAAAAAAAAAAAAAAAAAAAAAAAAAAAAAAAAAAAAAAAAAAAAAAAAAAAAAAAAAAAAAAAAAAAAAAAAAAAAAAAAAAAAAAAAAAAAAAAAAAAAAAAAAAAAAAAAAAAAAAAAAAAAAAAAAAAAAAAAAAAAAAAAAAAAAAAAAAAAAAAAAAAAAAAAAAAAAAAAAAAAAAAAAAAAAAAAAAAAAAAAAAAAAAAAAAAAAAAAAAAAAAAAAAAAAAAAAAAAAAAAAAAAAAAAAAAAAAAAAAAAAAAAAAAAAAAAAAAAAAAAAAAAAAAAAAAAAAAAAAAAAAAAAAAAAAAAAAAAAAAAAAAAAAAAAAAAAAAAAAAAAAAAAAAAAAAAAAAAAAAAAAAAAAAAAAAAAAAAAAAAAAAAAAAAAAAAAAAAAAAAAAAAAAAAAAAAAAAAAAAAAAAAAAAAAAAAAAAAAAAAAAAA==\",\"dtype\":\"int32\",\"order\":\"little\",\"shape\":[529]}},\"selected\":{\"id\":\"4421\"},\"selection_policy\":{\"id\":\"4434\"}},\"id\":\"4420\",\"type\":\"ColumnDataSource\"},{\"attributes\":{\"fill_alpha\":{\"value\":0.1},\"fill_color\":{\"value\":\"#1f77b3\"},\"line_alpha\":{\"value\":0.1},\"line_color\":{\"value\":\"#1f77b3\"},\"size\":{\"units\":\"screen\",\"value\":5.477225575051661},\"x\":{\"field\":\"TotalCoinsMined\"},\"y\":{\"field\":\"TotalCoinSupply\"}},\"id\":\"4424\",\"type\":\"Scatter\"},{\"attributes\":{\"data\":{\"TotalCoinSupply\":[\"86712634466\",\"252460800\"],\"TotalCoinsMined\":{\"__ndarray__\":\"AACgM7jSKUIAAAB+NGCoQQ==\",\"dtype\":\"float64\",\"order\":\"little\",\"shape\":[2]},\"class\":{\"__ndarray__\":\"AwAAAAMAAAA=\",\"dtype\":\"int32\",\"order\":\"little\",\"shape\":[2]}},\"selected\":{\"id\":\"4479\"},\"selection_policy\":{\"id\":\"4498\"}},\"id\":\"4478\",\"type\":\"ColumnDataSource\"},{\"attributes\":{\"source\":{\"id\":\"4420\"}},\"id\":\"4427\",\"type\":\"CDSView\"},{\"attributes\":{},\"id\":\"4404\",\"type\":\"PanTool\"},{\"attributes\":{\"label\":{\"value\":\"0\"},\"renderers\":[{\"id\":\"4426\"}]},\"id\":\"4437\",\"type\":\"LegendItem\"},{\"attributes\":{},\"id\":\"4458\",\"type\":\"Selection\"},{\"attributes\":{\"label\":{\"value\":\"1\"},\"renderers\":[{\"id\":\"4444\"}]},\"id\":\"4456\",\"type\":\"LegendItem\"},{\"attributes\":{},\"id\":\"4421\",\"type\":\"Selection\"},{\"attributes\":{},\"id\":\"4454\",\"type\":\"UnionRenderers\"},{\"attributes\":{\"axis_label\":\"TotalCoinSupply\",\"bounds\":\"auto\",\"formatter\":{\"id\":\"4419\"},\"major_label_orientation\":\"horizontal\",\"ticker\":{\"id\":\"4401\"}},\"id\":\"4400\",\"type\":\"CategoricalAxis\"},{\"attributes\":{\"fill_alpha\":{\"value\":0.1},\"fill_color\":{\"value\":\"#2ba02b\"},\"line_alpha\":{\"value\":0.1},\"line_color\":{\"value\":\"#2ba02b\"},\"size\":{\"units\":\"screen\",\"value\":5.477225575051661},\"x\":{\"field\":\"TotalCoinsMined\"},\"y\":{\"field\":\"TotalCoinSupply\"}},\"id\":\"4461\",\"type\":\"Scatter\"},{\"attributes\":{},\"id\":\"4419\",\"type\":\"CategoricalTickFormatter\"},{\"attributes\":{},\"id\":\"4401\",\"type\":\"CategoricalTicker\"},{\"attributes\":{\"fill_alpha\":{\"value\":0.2},\"fill_color\":{\"value\":\"#ff7e0e\"},\"line_alpha\":{\"value\":0.2},\"line_color\":{\"value\":\"#ff7e0e\"},\"size\":{\"units\":\"screen\",\"value\":5.477225575051661},\"x\":{\"field\":\"TotalCoinsMined\"},\"y\":{\"field\":\"TotalCoinSupply\"}},\"id\":\"4443\",\"type\":\"Scatter\"},{\"attributes\":{\"fill_color\":{\"value\":\"#2ba02b\"},\"line_color\":{\"value\":\"#2ba02b\"},\"size\":{\"units\":\"screen\",\"value\":5.477225575051661},\"x\":{\"field\":\"TotalCoinsMined\"},\"y\":{\"field\":\"TotalCoinSupply\"}},\"id\":\"4460\",\"type\":\"Scatter\"},{\"attributes\":{},\"id\":\"4407\",\"type\":\"ResetTool\"},{\"attributes\":{},\"id\":\"4434\",\"type\":\"UnionRenderers\"},{\"attributes\":{\"align\":null,\"below\":[{\"id\":\"4396\"}],\"center\":[{\"id\":\"4399\"},{\"id\":\"4402\"}],\"left\":[{\"id\":\"4400\"}],\"margin\":null,\"min_border_bottom\":10,\"min_border_left\":10,\"min_border_right\":10,\"min_border_top\":10,\"plot_height\":300,\"plot_width\":700,\"renderers\":[{\"id\":\"4426\"},{\"id\":\"4444\"},{\"id\":\"4463\"},{\"id\":\"4484\"}],\"right\":[{\"id\":\"4436\"}],\"sizing_mode\":\"fixed\",\"title\":{\"id\":\"4388\"},\"toolbar\":{\"id\":\"4409\"},\"x_range\":{\"id\":\"4381\"},\"x_scale\":{\"id\":\"4392\"},\"y_range\":{\"id\":\"4382\"},\"y_scale\":{\"id\":\"4394\"}},\"id\":\"4387\",\"subtype\":\"Figure\",\"type\":\"Plot\"},{\"attributes\":{\"label\":{\"value\":\"2\"},\"renderers\":[{\"id\":\"4463\"}]},\"id\":\"4477\",\"type\":\"LegendItem\"},{\"attributes\":{},\"id\":\"4475\",\"type\":\"UnionRenderers\"},{\"attributes\":{\"data_source\":{\"id\":\"4457\"},\"glyph\":{\"id\":\"4460\"},\"hover_glyph\":null,\"muted_glyph\":{\"id\":\"4462\"},\"nonselection_glyph\":{\"id\":\"4461\"},\"selection_glyph\":null,\"view\":{\"id\":\"4464\"}},\"id\":\"4463\",\"type\":\"GlyphRenderer\"}],\"root_ids\":[\"4379\"]},\"title\":\"Bokeh Application\",\"version\":\"2.1.1\"}};\n",
       "  var render_items = [{\"docid\":\"82d93b5d-67cd-4634-a8bd-702cc2ca89c7\",\"root_ids\":[\"4379\"],\"roots\":{\"4379\":\"77611f6e-8496-439b-a110-3abff64b4565\"}}];\n",
       "  root.Bokeh.embed.embed_items_notebook(docs_json, render_items);\n",
       "  }\n",
       "if (root.Bokeh !== undefined) {\n",
       "    embed_document(root);\n",
       "  } else {\n",
       "    var attempts = 0;\n",
       "    var timer = setInterval(function(root) {\n",
       "      if (root.Bokeh !== undefined) {\n",
       "        clearInterval(timer);\n",
       "        embed_document(root);\n",
       "      } else if (document.readyState == \"complete\") {\n",
       "        attempts++;\n",
       "        if (attempts > 100) {\n",
       "          clearInterval(timer);\n",
       "          console.log(\"Bokeh: ERROR: Unable to run BokehJS code because BokehJS library is missing\");\n",
       "        }\n",
       "      }\n",
       "    }, 10, root)\n",
       "  }\n",
       "})(window);</script>"
      ],
      "text/plain": [
       ":NdOverlay   [class]\n",
       "   :Scatter   [TotalCoinsMined]   (TotalCoinSupply,class)"
      ]
     },
     "execution_count": 164,
     "metadata": {
      "application/vnd.holoviews_exec.v0+json": {
       "id": "4379"
      }
     },
     "output_type": "execute_result"
    }
   ],
   "source": [
    "# Plot the scatter with x=\"TotalCoinsMined\" and y=\"TotalCoinSupply\"\n",
    "clustered_df.hvplot.scatter(\n",
    "    x=\"TotalCoinsMined\",\n",
    "    y=\"TotalCoinSupply\",\n",
    "    hover_cols=[\"class\"],\n",
    "    by=\"class\"\n",
    ")"
   ]
  },
  {
   "cell_type": "code",
   "execution_count": null,
   "metadata": {},
   "outputs": [],
   "source": []
  }
 ],
 "metadata": {
  "file_extension": ".py",
  "kernelspec": {
   "display_name": "Python 3",
   "language": "python",
   "name": "python3"
  },
  "language_info": {
   "codemirror_mode": {
    "name": "ipython",
    "version": 3
   },
   "file_extension": ".py",
   "mimetype": "text/x-python",
   "name": "python",
   "nbconvert_exporter": "python",
   "pygments_lexer": "ipython3",
   "version": "3.7.7"
  },
  "mimetype": "text/x-python",
  "name": "python",
  "npconvert_exporter": "python",
  "pygments_lexer": "ipython3",
  "version": 3
 },
 "nbformat": 4,
 "nbformat_minor": 4
}
